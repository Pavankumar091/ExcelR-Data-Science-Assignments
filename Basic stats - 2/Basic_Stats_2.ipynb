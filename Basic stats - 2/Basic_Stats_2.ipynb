{
 "cells": [
  {
   "cell_type": "markdown",
   "metadata": {
    "id": "SOB56Ow---tf"
   },
   "source": [
    "# Sai Pavan Kumar M\n",
    "# Data Science - Batch January 2024 (Hyderabad) - Assignment 2\n",
    "# Basic Stats - 2"
   ]
  },
  {
   "cell_type": "markdown",
   "metadata": {
    "id": "aIcFtwT_4b7e"
   },
   "source": [
    "**Task a: Build 99% Confidence Interval Using Sample Standard Deviation**"
   ]
  },
  {
   "cell_type": "markdown",
   "metadata": {
    "id": "By4Er8Fk4rAm"
   },
   "source": [
    "Step 1: Calculating the sample mean and sample standard deviation of the durability data."
   ]
  },
  {
   "cell_type": "markdown",
   "metadata": {
    "id": "zTwu8Ray49fv"
   },
   "source": [
    "Defining Durability data"
   ]
  },
  {
   "cell_type": "code",
   "execution_count": 1,
   "metadata": {
    "id": "y5Lto92a5Jej"
   },
   "outputs": [],
   "source": [
    "import numpy as np"
   ]
  },
  {
   "cell_type": "code",
   "execution_count": 2,
   "metadata": {
    "id": "SrKBGHni4YLx"
   },
   "outputs": [],
   "source": [
    "durability_data = np.array([1.13, 1.55, 1.43, 0.92, 1.25, 1.36, 1.32, 0.85, 1.07, 1.48, 1.20, 1.33, 1.18, 1.22, 1.29])"
   ]
  },
  {
   "cell_type": "code",
   "execution_count": 3,
   "metadata": {
    "colab": {
     "base_uri": "https://localhost:8080/"
    },
    "id": "UFUqm1hv4Y-f",
    "outputId": "d32fa9d4-0998-47a3-a5e0-915ebba613b0"
   },
   "outputs": [
    {
     "name": "stdout",
     "output_type": "stream",
     "text": [
      "[1.13 1.55 1.43 0.92 1.25 1.36 1.32 0.85 1.07 1.48 1.2  1.33 1.18 1.22\n",
      " 1.29]\n"
     ]
    }
   ],
   "source": [
    "print(durability_data)"
   ]
  },
  {
   "cell_type": "markdown",
   "metadata": {
    "id": "ytnXG9Zc5Thw"
   },
   "source": [
    "Calculating sample Mean"
   ]
  },
  {
   "cell_type": "code",
   "execution_count": 22,
   "metadata": {
    "id": "vhYJOtTO5PfG"
   },
   "outputs": [],
   "source": [
    "sample_mean = np.mean(durability_data)"
   ]
  },
  {
   "cell_type": "code",
   "execution_count": 5,
   "metadata": {
    "colab": {
     "base_uri": "https://localhost:8080/"
    },
    "id": "yACWOlM65gOb",
    "outputId": "1d54bdb4-fb83-419a-c6de-e68b8fb2e7f8"
   },
   "outputs": [
    {
     "name": "stdout",
     "output_type": "stream",
     "text": [
      "1.2386666666666666\n"
     ]
    }
   ],
   "source": [
    "print(sample_mean)"
   ]
  },
  {
   "cell_type": "markdown",
   "metadata": {
    "id": "Yv-vav_G5oHI"
   },
   "source": [
    "Calculating sample Standard Deviation"
   ]
  },
  {
   "cell_type": "code",
   "execution_count": 6,
   "metadata": {
    "id": "TKdZvOc45jFE"
   },
   "outputs": [],
   "source": [
    "sample_std_dev = np.std(durability_data, ddof=1)     #Here I have used ddof=1 for sample standard deviation"
   ]
  },
  {
   "cell_type": "code",
   "execution_count": 7,
   "metadata": {
    "colab": {
     "base_uri": "https://localhost:8080/"
    },
    "id": "x0ut-8U756lb",
    "outputId": "5e4d2244-282c-48f0-f841-ec9e4f6b0132"
   },
   "outputs": [
    {
     "name": "stdout",
     "output_type": "stream",
     "text": [
      "0.19316412956959936\n"
     ]
    }
   ],
   "source": [
    "print(sample_std_dev)"
   ]
  },
  {
   "cell_type": "markdown",
   "metadata": {
    "id": "VtmdO6YK6wBV"
   },
   "source": [
    "Step 2: Determining Degrees Of Freedom for the t-distribution"
   ]
  },
  {
   "cell_type": "code",
   "execution_count": 24,
   "metadata": {
    "id": "kJSXOSMs6u4v"
   },
   "outputs": [],
   "source": [
    "# Since I have a sample size of 15, the degrees of freedom is 14 (n-1)"
   ]
  },
  {
   "cell_type": "code",
   "execution_count": 9,
   "metadata": {
    "id": "WpFD1c2I5-1x"
   },
   "outputs": [],
   "source": [
    "degrees_of_freedom = len(durability_data) - 1"
   ]
  },
  {
   "cell_type": "code",
   "execution_count": 10,
   "metadata": {
    "colab": {
     "base_uri": "https://localhost:8080/"
    },
    "id": "QbkfOYLf7MGe",
    "outputId": "759e068f-868d-4686-e869-576b6f65c625"
   },
   "outputs": [
    {
     "name": "stdout",
     "output_type": "stream",
     "text": [
      "14\n"
     ]
    }
   ],
   "source": [
    "print(degrees_of_freedom)"
   ]
  },
  {
   "cell_type": "markdown",
   "metadata": {
    "id": "pCMBzOu_9a8x"
   },
   "source": [
    "Step 3: Choosing a confidence level of 99% and finding the corresponding critical t-value using a t-distribution table or calculator."
   ]
  },
  {
   "cell_type": "code",
   "execution_count": 11,
   "metadata": {
    "id": "HbCiG-df7Ow5"
   },
   "outputs": [],
   "source": [
    "from scipy.stats import t"
   ]
  },
  {
   "cell_type": "markdown",
   "metadata": {
    "id": "E8JDar9H9uAO"
   },
   "source": [
    "Defining the confidence level"
   ]
  },
  {
   "cell_type": "code",
   "execution_count": 12,
   "metadata": {
    "id": "5v8VQmk59ovU"
   },
   "outputs": [],
   "source": [
    "confidence_level = 0.99"
   ]
  },
  {
   "cell_type": "markdown",
   "metadata": {
    "id": "Cr6Mrmad902G"
   },
   "source": [
    "Calculating the critical t-value"
   ]
  },
  {
   "cell_type": "code",
   "execution_count": 13,
   "metadata": {
    "colab": {
     "base_uri": "https://localhost:8080/"
    },
    "id": "W_KsXQYr9xAY",
    "outputId": "906cbc5e-d545-4de0-cf6f-453bee849ae4"
   },
   "outputs": [
    {
     "name": "stdout",
     "output_type": "stream",
     "text": [
      "2.97684273411266\n"
     ]
    }
   ],
   "source": [
    "critical_t_value = t.ppf((1 + confidence_level) / 2, degrees_of_freedom)\n",
    "print(critical_t_value)"
   ]
  },
  {
   "cell_type": "markdown",
   "metadata": {
    "id": "4Yw54U_u-G_9"
   },
   "source": [
    "Step 4: Calculating margin of error using the critical t-value and sample standard deviation."
   ]
  },
  {
   "cell_type": "code",
   "execution_count": 14,
   "metadata": {
    "colab": {
     "base_uri": "https://localhost:8080/"
    },
    "id": "vL53eA8S98-o",
    "outputId": "29948ef9-99ad-49d3-8e03-8ffa6557f757"
   },
   "outputs": [
    {
     "name": "stdout",
     "output_type": "stream",
     "text": [
      "0.1484693282152996\n"
     ]
    }
   ],
   "source": [
    "margin_of_error = critical_t_value * (sample_std_dev / np.sqrt(len(durability_data)))\n",
    "print(margin_of_error)"
   ]
  },
  {
   "cell_type": "markdown",
   "metadata": {
    "id": "ES70xTQC-dvU"
   },
   "source": [
    "Step 5: Constructing the 99% confidence interval by adding and subtracting the margin of error from the sample mean."
   ]
  },
  {
   "cell_type": "code",
   "execution_count": 15,
   "metadata": {
    "colab": {
     "base_uri": "https://localhost:8080/"
    },
    "id": "ZHMVPAuH-YFJ",
    "outputId": "2b5ae118-c4f9-455f-9125-c6f8b40f5582"
   },
   "outputs": [
    {
     "name": "stdout",
     "output_type": "stream",
     "text": [
      "(1.090197338451367, 1.3871359948819662)\n"
     ]
    }
   ],
   "source": [
    "confidence_interval = (sample_mean - margin_of_error, sample_mean + margin_of_error)\n",
    "print(confidence_interval)"
   ]
  },
  {
   "cell_type": "markdown",
   "metadata": {
    "id": "xGmeqmCD_L5t"
   },
   "source": [
    "**Task b: Build 99% Confidence Interval Using Known Population Standard Deviation**"
   ]
  },
  {
   "cell_type": "markdown",
   "metadata": {
    "id": "XxqLJoGK_XGt"
   },
   "source": [
    "Step 1: Calculating sample mean of the durability data."
   ]
  },
  {
   "cell_type": "code",
   "execution_count": 16,
   "metadata": {
    "colab": {
     "base_uri": "https://localhost:8080/"
    },
    "id": "Rd4xHCtV-mDX",
    "outputId": "a61d648c-5198-4ec9-a976-a49a7c762de3"
   },
   "outputs": [
    {
     "name": "stdout",
     "output_type": "stream",
     "text": [
      "1.2386666666666666\n"
     ]
    }
   ],
   "source": [
    "sample_mean = np.mean(durability_data)\n",
    "print(sample_mean)"
   ]
  },
  {
   "cell_type": "markdown",
   "metadata": {
    "id": "bdvvMcn6_oBX"
   },
   "source": [
    "Step 2: Choosing confidence level of 99% and find the corresponding critical z-value using a standard normal distribution table or calculator."
   ]
  },
  {
   "cell_type": "code",
   "execution_count": 17,
   "metadata": {
    "id": "tYQf4OmV_h-3"
   },
   "outputs": [],
   "source": [
    "from scipy.stats import norm"
   ]
  },
  {
   "cell_type": "markdown",
   "metadata": {
    "id": "dnYWYwBF_0c_"
   },
   "source": [
    "Defining the Confidence Level"
   ]
  },
  {
   "cell_type": "code",
   "execution_count": 18,
   "metadata": {
    "id": "Jj6HRHVO_waX"
   },
   "outputs": [],
   "source": [
    "confidence_level = 0.99"
   ]
  },
  {
   "cell_type": "markdown",
   "metadata": {
    "id": "52mifJySAA0l"
   },
   "source": [
    "Calculating the critical z-value"
   ]
  },
  {
   "cell_type": "code",
   "execution_count": 23,
   "metadata": {
    "colab": {
     "base_uri": "https://localhost:8080/"
    },
    "id": "WMA5Xrwz_8YO",
    "outputId": "13581d7e-61a9-4039-9695-c6b3a8a99abd"
   },
   "outputs": [
    {
     "name": "stdout",
     "output_type": "stream",
     "text": [
      "2.5758293035489004\n"
     ]
    }
   ],
   "source": [
    "critical_z_value = norm.ppf((1 + confidence_level) / 2)\n",
    "print(critical_z_value)"
   ]
  },
  {
   "cell_type": "markdown",
   "metadata": {
    "id": "loIyZFbmANUL"
   },
   "source": [
    "Step 3: Calculating the margin of error using the critical z-value and known population standard deviation."
   ]
  },
  {
   "cell_type": "code",
   "execution_count": 20,
   "metadata": {
    "colab": {
     "base_uri": "https://localhost:8080/"
    },
    "id": "JeatBXFoAIp_",
    "outputId": "3ef1e9c6-9fe6-4787-f19e-c68afa825cad"
   },
   "outputs": [
    {
     "name": "stdout",
     "output_type": "stream",
     "text": [
      "0.13301525327090588\n"
     ]
    }
   ],
   "source": [
    "margin_of_error = critical_z_value * (0.2 / np.sqrt(len(durability_data)))\n",
    "print(margin_of_error)"
   ]
  },
  {
   "cell_type": "markdown",
   "metadata": {
    "id": "AIzAMcfNAklZ"
   },
   "source": [
    "Step 4: Constructing the 99% confidence interval by adding and subtracting the margin of error from the sample mean."
   ]
  },
  {
   "cell_type": "code",
   "execution_count": 21,
   "metadata": {
    "colab": {
     "base_uri": "https://localhost:8080/"
    },
    "id": "mQBy_cpqAT7Z",
    "outputId": "d7e5e307-96bc-44c1-8319-4fa9b8dce00c"
   },
   "outputs": [
    {
     "name": "stdout",
     "output_type": "stream",
     "text": [
      "(1.1056514133957607, 1.3716819199375725)\n"
     ]
    }
   ],
   "source": [
    "confidence_interval = (sample_mean - margin_of_error, sample_mean + margin_of_error)\n",
    "print(confidence_interval)"
   ]
  }
 ],
 "metadata": {
  "colab": {
   "provenance": []
  },
  "kernelspec": {
   "display_name": "Python 3 (ipykernel)",
   "language": "python",
   "name": "python3"
  },
  "language_info": {
   "codemirror_mode": {
    "name": "ipython",
    "version": 3
   },
   "file_extension": ".py",
   "mimetype": "text/x-python",
   "name": "python",
   "nbconvert_exporter": "python",
   "pygments_lexer": "ipython3",
   "version": "3.11.5"
  }
 },
 "nbformat": 4,
 "nbformat_minor": 1
}

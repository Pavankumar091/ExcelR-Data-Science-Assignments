{
 "cells": [
  {
   "cell_type": "markdown",
   "metadata": {
    "id": "3l6BtM03ubc9"
   },
   "source": [
    "# Sai Pavan Kumar M\n",
    "# Data Science - Batch January 2024 (Hyderabad) - Assignment 7\n",
    "\n",
    "# Logistic Regression"
   ]
  },
  {
   "cell_type": "markdown",
   "metadata": {
    "id": "ALxT2I9-uTkh"
   },
   "source": [
    "# Task 1: Data Exploration"
   ]
  },
  {
   "cell_type": "code",
   "execution_count": 1,
   "metadata": {
    "id": "xm7A9dCGvFp7"
   },
   "outputs": [],
   "source": [
    "import pandas as pd"
   ]
  },
  {
   "cell_type": "markdown",
   "metadata": {
    "id": "J6G0jmWAvA7O"
   },
   "source": [
    "Loading the datasets"
   ]
  },
  {
   "cell_type": "code",
   "execution_count": 2,
   "metadata": {
    "id": "fqTjqclamuPv"
   },
   "outputs": [],
   "source": [
    "train_data = pd.read_csv('Titanic_train.csv')\n",
    "test_data = pd.read_csv('Titanic_test.csv')"
   ]
  },
  {
   "cell_type": "code",
   "execution_count": 3,
   "metadata": {
    "colab": {
     "base_uri": "https://localhost:8080/"
    },
    "id": "4FEtHHmbBk3V",
    "outputId": "9ad0d4da-92ad-4ab8-bbee-e3362be28c4c"
   },
   "outputs": [
    {
     "data": {
      "text/plain": [
       "Index(['PassengerId', 'Survived', 'Pclass', 'Name', 'Sex', 'Age', 'SibSp',\n",
       "       'Parch', 'Ticket', 'Fare', 'Cabin', 'Embarked'],\n",
       "      dtype='object')"
      ]
     },
     "execution_count": 3,
     "metadata": {},
     "output_type": "execute_result"
    }
   ],
   "source": [
    "train_data.columns"
   ]
  },
  {
   "cell_type": "code",
   "execution_count": 4,
   "metadata": {
    "colab": {
     "base_uri": "https://localhost:8080/"
    },
    "id": "SAjO8PZuBr5T",
    "outputId": "6a2a48ca-b6a5-4749-f359-94c09622a038"
   },
   "outputs": [
    {
     "data": {
      "text/plain": [
       "Index(['PassengerId', 'Pclass', 'Name', 'Sex', 'Age', 'SibSp', 'Parch',\n",
       "       'Ticket', 'Fare', 'Cabin', 'Embarked'],\n",
       "      dtype='object')"
      ]
     },
     "execution_count": 4,
     "metadata": {},
     "output_type": "execute_result"
    }
   ],
   "source": [
    "test_data.columns"
   ]
  },
  {
   "cell_type": "code",
   "execution_count": 5,
   "metadata": {
    "colab": {
     "base_uri": "https://localhost:8080/",
     "height": 423
    },
    "id": "HxCTeM4DvLZy",
    "outputId": "a37d2a29-42d9-4c0e-f21f-81acb12b7e72"
   },
   "outputs": [
    {
     "data": {
      "text/html": [
       "<div>\n",
       "<style scoped>\n",
       "    .dataframe tbody tr th:only-of-type {\n",
       "        vertical-align: middle;\n",
       "    }\n",
       "\n",
       "    .dataframe tbody tr th {\n",
       "        vertical-align: top;\n",
       "    }\n",
       "\n",
       "    .dataframe thead th {\n",
       "        text-align: right;\n",
       "    }\n",
       "</style>\n",
       "<table border=\"1\" class=\"dataframe\">\n",
       "  <thead>\n",
       "    <tr style=\"text-align: right;\">\n",
       "      <th></th>\n",
       "      <th>PassengerId</th>\n",
       "      <th>Survived</th>\n",
       "      <th>Pclass</th>\n",
       "      <th>Name</th>\n",
       "      <th>Sex</th>\n",
       "      <th>Age</th>\n",
       "      <th>SibSp</th>\n",
       "      <th>Parch</th>\n",
       "      <th>Ticket</th>\n",
       "      <th>Fare</th>\n",
       "      <th>Cabin</th>\n",
       "      <th>Embarked</th>\n",
       "    </tr>\n",
       "  </thead>\n",
       "  <tbody>\n",
       "    <tr>\n",
       "      <th>0</th>\n",
       "      <td>1</td>\n",
       "      <td>0</td>\n",
       "      <td>3</td>\n",
       "      <td>Braund, Mr. Owen Harris</td>\n",
       "      <td>male</td>\n",
       "      <td>22.0</td>\n",
       "      <td>1</td>\n",
       "      <td>0</td>\n",
       "      <td>A/5 21171</td>\n",
       "      <td>7.2500</td>\n",
       "      <td>NaN</td>\n",
       "      <td>S</td>\n",
       "    </tr>\n",
       "    <tr>\n",
       "      <th>1</th>\n",
       "      <td>2</td>\n",
       "      <td>1</td>\n",
       "      <td>1</td>\n",
       "      <td>Cumings, Mrs. John Bradley (Florence Briggs Th...</td>\n",
       "      <td>female</td>\n",
       "      <td>38.0</td>\n",
       "      <td>1</td>\n",
       "      <td>0</td>\n",
       "      <td>PC 17599</td>\n",
       "      <td>71.2833</td>\n",
       "      <td>C85</td>\n",
       "      <td>C</td>\n",
       "    </tr>\n",
       "    <tr>\n",
       "      <th>2</th>\n",
       "      <td>3</td>\n",
       "      <td>1</td>\n",
       "      <td>3</td>\n",
       "      <td>Heikkinen, Miss. Laina</td>\n",
       "      <td>female</td>\n",
       "      <td>26.0</td>\n",
       "      <td>0</td>\n",
       "      <td>0</td>\n",
       "      <td>STON/O2. 3101282</td>\n",
       "      <td>7.9250</td>\n",
       "      <td>NaN</td>\n",
       "      <td>S</td>\n",
       "    </tr>\n",
       "    <tr>\n",
       "      <th>3</th>\n",
       "      <td>4</td>\n",
       "      <td>1</td>\n",
       "      <td>1</td>\n",
       "      <td>Futrelle, Mrs. Jacques Heath (Lily May Peel)</td>\n",
       "      <td>female</td>\n",
       "      <td>35.0</td>\n",
       "      <td>1</td>\n",
       "      <td>0</td>\n",
       "      <td>113803</td>\n",
       "      <td>53.1000</td>\n",
       "      <td>C123</td>\n",
       "      <td>S</td>\n",
       "    </tr>\n",
       "    <tr>\n",
       "      <th>4</th>\n",
       "      <td>5</td>\n",
       "      <td>0</td>\n",
       "      <td>3</td>\n",
       "      <td>Allen, Mr. William Henry</td>\n",
       "      <td>male</td>\n",
       "      <td>35.0</td>\n",
       "      <td>0</td>\n",
       "      <td>0</td>\n",
       "      <td>373450</td>\n",
       "      <td>8.0500</td>\n",
       "      <td>NaN</td>\n",
       "      <td>S</td>\n",
       "    </tr>\n",
       "    <tr>\n",
       "      <th>...</th>\n",
       "      <td>...</td>\n",
       "      <td>...</td>\n",
       "      <td>...</td>\n",
       "      <td>...</td>\n",
       "      <td>...</td>\n",
       "      <td>...</td>\n",
       "      <td>...</td>\n",
       "      <td>...</td>\n",
       "      <td>...</td>\n",
       "      <td>...</td>\n",
       "      <td>...</td>\n",
       "      <td>...</td>\n",
       "    </tr>\n",
       "    <tr>\n",
       "      <th>886</th>\n",
       "      <td>887</td>\n",
       "      <td>0</td>\n",
       "      <td>2</td>\n",
       "      <td>Montvila, Rev. Juozas</td>\n",
       "      <td>male</td>\n",
       "      <td>27.0</td>\n",
       "      <td>0</td>\n",
       "      <td>0</td>\n",
       "      <td>211536</td>\n",
       "      <td>13.0000</td>\n",
       "      <td>NaN</td>\n",
       "      <td>S</td>\n",
       "    </tr>\n",
       "    <tr>\n",
       "      <th>887</th>\n",
       "      <td>888</td>\n",
       "      <td>1</td>\n",
       "      <td>1</td>\n",
       "      <td>Graham, Miss. Margaret Edith</td>\n",
       "      <td>female</td>\n",
       "      <td>19.0</td>\n",
       "      <td>0</td>\n",
       "      <td>0</td>\n",
       "      <td>112053</td>\n",
       "      <td>30.0000</td>\n",
       "      <td>B42</td>\n",
       "      <td>S</td>\n",
       "    </tr>\n",
       "    <tr>\n",
       "      <th>888</th>\n",
       "      <td>889</td>\n",
       "      <td>0</td>\n",
       "      <td>3</td>\n",
       "      <td>Johnston, Miss. Catherine Helen \"Carrie\"</td>\n",
       "      <td>female</td>\n",
       "      <td>NaN</td>\n",
       "      <td>1</td>\n",
       "      <td>2</td>\n",
       "      <td>W./C. 6607</td>\n",
       "      <td>23.4500</td>\n",
       "      <td>NaN</td>\n",
       "      <td>S</td>\n",
       "    </tr>\n",
       "    <tr>\n",
       "      <th>889</th>\n",
       "      <td>890</td>\n",
       "      <td>1</td>\n",
       "      <td>1</td>\n",
       "      <td>Behr, Mr. Karl Howell</td>\n",
       "      <td>male</td>\n",
       "      <td>26.0</td>\n",
       "      <td>0</td>\n",
       "      <td>0</td>\n",
       "      <td>111369</td>\n",
       "      <td>30.0000</td>\n",
       "      <td>C148</td>\n",
       "      <td>C</td>\n",
       "    </tr>\n",
       "    <tr>\n",
       "      <th>890</th>\n",
       "      <td>891</td>\n",
       "      <td>0</td>\n",
       "      <td>3</td>\n",
       "      <td>Dooley, Mr. Patrick</td>\n",
       "      <td>male</td>\n",
       "      <td>32.0</td>\n",
       "      <td>0</td>\n",
       "      <td>0</td>\n",
       "      <td>370376</td>\n",
       "      <td>7.7500</td>\n",
       "      <td>NaN</td>\n",
       "      <td>Q</td>\n",
       "    </tr>\n",
       "  </tbody>\n",
       "</table>\n",
       "<p>891 rows × 12 columns</p>\n",
       "</div>"
      ],
      "text/plain": [
       "     PassengerId  Survived  Pclass  \\\n",
       "0              1         0       3   \n",
       "1              2         1       1   \n",
       "2              3         1       3   \n",
       "3              4         1       1   \n",
       "4              5         0       3   \n",
       "..           ...       ...     ...   \n",
       "886          887         0       2   \n",
       "887          888         1       1   \n",
       "888          889         0       3   \n",
       "889          890         1       1   \n",
       "890          891         0       3   \n",
       "\n",
       "                                                  Name     Sex   Age  SibSp  \\\n",
       "0                              Braund, Mr. Owen Harris    male  22.0      1   \n",
       "1    Cumings, Mrs. John Bradley (Florence Briggs Th...  female  38.0      1   \n",
       "2                               Heikkinen, Miss. Laina  female  26.0      0   \n",
       "3         Futrelle, Mrs. Jacques Heath (Lily May Peel)  female  35.0      1   \n",
       "4                             Allen, Mr. William Henry    male  35.0      0   \n",
       "..                                                 ...     ...   ...    ...   \n",
       "886                              Montvila, Rev. Juozas    male  27.0      0   \n",
       "887                       Graham, Miss. Margaret Edith  female  19.0      0   \n",
       "888           Johnston, Miss. Catherine Helen \"Carrie\"  female   NaN      1   \n",
       "889                              Behr, Mr. Karl Howell    male  26.0      0   \n",
       "890                                Dooley, Mr. Patrick    male  32.0      0   \n",
       "\n",
       "     Parch            Ticket     Fare Cabin Embarked  \n",
       "0        0         A/5 21171   7.2500   NaN        S  \n",
       "1        0          PC 17599  71.2833   C85        C  \n",
       "2        0  STON/O2. 3101282   7.9250   NaN        S  \n",
       "3        0            113803  53.1000  C123        S  \n",
       "4        0            373450   8.0500   NaN        S  \n",
       "..     ...               ...      ...   ...      ...  \n",
       "886      0            211536  13.0000   NaN        S  \n",
       "887      0            112053  30.0000   B42        S  \n",
       "888      2        W./C. 6607  23.4500   NaN        S  \n",
       "889      0            111369  30.0000  C148        C  \n",
       "890      0            370376   7.7500   NaN        Q  \n",
       "\n",
       "[891 rows x 12 columns]"
      ]
     },
     "execution_count": 5,
     "metadata": {},
     "output_type": "execute_result"
    }
   ],
   "source": [
    "train_data"
   ]
  },
  {
   "cell_type": "code",
   "execution_count": 6,
   "metadata": {
    "colab": {
     "base_uri": "https://localhost:8080/",
     "height": 423
    },
    "id": "H9lNJx0IvNp9",
    "outputId": "e27c4d05-1bd2-400b-daff-c7adb1db2bdf"
   },
   "outputs": [
    {
     "data": {
      "text/html": [
       "<div>\n",
       "<style scoped>\n",
       "    .dataframe tbody tr th:only-of-type {\n",
       "        vertical-align: middle;\n",
       "    }\n",
       "\n",
       "    .dataframe tbody tr th {\n",
       "        vertical-align: top;\n",
       "    }\n",
       "\n",
       "    .dataframe thead th {\n",
       "        text-align: right;\n",
       "    }\n",
       "</style>\n",
       "<table border=\"1\" class=\"dataframe\">\n",
       "  <thead>\n",
       "    <tr style=\"text-align: right;\">\n",
       "      <th></th>\n",
       "      <th>PassengerId</th>\n",
       "      <th>Pclass</th>\n",
       "      <th>Name</th>\n",
       "      <th>Sex</th>\n",
       "      <th>Age</th>\n",
       "      <th>SibSp</th>\n",
       "      <th>Parch</th>\n",
       "      <th>Ticket</th>\n",
       "      <th>Fare</th>\n",
       "      <th>Cabin</th>\n",
       "      <th>Embarked</th>\n",
       "    </tr>\n",
       "  </thead>\n",
       "  <tbody>\n",
       "    <tr>\n",
       "      <th>0</th>\n",
       "      <td>892</td>\n",
       "      <td>3</td>\n",
       "      <td>Kelly, Mr. James</td>\n",
       "      <td>male</td>\n",
       "      <td>34.5</td>\n",
       "      <td>0</td>\n",
       "      <td>0</td>\n",
       "      <td>330911</td>\n",
       "      <td>7.8292</td>\n",
       "      <td>NaN</td>\n",
       "      <td>Q</td>\n",
       "    </tr>\n",
       "    <tr>\n",
       "      <th>1</th>\n",
       "      <td>893</td>\n",
       "      <td>3</td>\n",
       "      <td>Wilkes, Mrs. James (Ellen Needs)</td>\n",
       "      <td>female</td>\n",
       "      <td>47.0</td>\n",
       "      <td>1</td>\n",
       "      <td>0</td>\n",
       "      <td>363272</td>\n",
       "      <td>7.0000</td>\n",
       "      <td>NaN</td>\n",
       "      <td>S</td>\n",
       "    </tr>\n",
       "    <tr>\n",
       "      <th>2</th>\n",
       "      <td>894</td>\n",
       "      <td>2</td>\n",
       "      <td>Myles, Mr. Thomas Francis</td>\n",
       "      <td>male</td>\n",
       "      <td>62.0</td>\n",
       "      <td>0</td>\n",
       "      <td>0</td>\n",
       "      <td>240276</td>\n",
       "      <td>9.6875</td>\n",
       "      <td>NaN</td>\n",
       "      <td>Q</td>\n",
       "    </tr>\n",
       "    <tr>\n",
       "      <th>3</th>\n",
       "      <td>895</td>\n",
       "      <td>3</td>\n",
       "      <td>Wirz, Mr. Albert</td>\n",
       "      <td>male</td>\n",
       "      <td>27.0</td>\n",
       "      <td>0</td>\n",
       "      <td>0</td>\n",
       "      <td>315154</td>\n",
       "      <td>8.6625</td>\n",
       "      <td>NaN</td>\n",
       "      <td>S</td>\n",
       "    </tr>\n",
       "    <tr>\n",
       "      <th>4</th>\n",
       "      <td>896</td>\n",
       "      <td>3</td>\n",
       "      <td>Hirvonen, Mrs. Alexander (Helga E Lindqvist)</td>\n",
       "      <td>female</td>\n",
       "      <td>22.0</td>\n",
       "      <td>1</td>\n",
       "      <td>1</td>\n",
       "      <td>3101298</td>\n",
       "      <td>12.2875</td>\n",
       "      <td>NaN</td>\n",
       "      <td>S</td>\n",
       "    </tr>\n",
       "    <tr>\n",
       "      <th>...</th>\n",
       "      <td>...</td>\n",
       "      <td>...</td>\n",
       "      <td>...</td>\n",
       "      <td>...</td>\n",
       "      <td>...</td>\n",
       "      <td>...</td>\n",
       "      <td>...</td>\n",
       "      <td>...</td>\n",
       "      <td>...</td>\n",
       "      <td>...</td>\n",
       "      <td>...</td>\n",
       "    </tr>\n",
       "    <tr>\n",
       "      <th>413</th>\n",
       "      <td>1305</td>\n",
       "      <td>3</td>\n",
       "      <td>Spector, Mr. Woolf</td>\n",
       "      <td>male</td>\n",
       "      <td>NaN</td>\n",
       "      <td>0</td>\n",
       "      <td>0</td>\n",
       "      <td>A.5. 3236</td>\n",
       "      <td>8.0500</td>\n",
       "      <td>NaN</td>\n",
       "      <td>S</td>\n",
       "    </tr>\n",
       "    <tr>\n",
       "      <th>414</th>\n",
       "      <td>1306</td>\n",
       "      <td>1</td>\n",
       "      <td>Oliva y Ocana, Dona. Fermina</td>\n",
       "      <td>female</td>\n",
       "      <td>39.0</td>\n",
       "      <td>0</td>\n",
       "      <td>0</td>\n",
       "      <td>PC 17758</td>\n",
       "      <td>108.9000</td>\n",
       "      <td>C105</td>\n",
       "      <td>C</td>\n",
       "    </tr>\n",
       "    <tr>\n",
       "      <th>415</th>\n",
       "      <td>1307</td>\n",
       "      <td>3</td>\n",
       "      <td>Saether, Mr. Simon Sivertsen</td>\n",
       "      <td>male</td>\n",
       "      <td>38.5</td>\n",
       "      <td>0</td>\n",
       "      <td>0</td>\n",
       "      <td>SOTON/O.Q. 3101262</td>\n",
       "      <td>7.2500</td>\n",
       "      <td>NaN</td>\n",
       "      <td>S</td>\n",
       "    </tr>\n",
       "    <tr>\n",
       "      <th>416</th>\n",
       "      <td>1308</td>\n",
       "      <td>3</td>\n",
       "      <td>Ware, Mr. Frederick</td>\n",
       "      <td>male</td>\n",
       "      <td>NaN</td>\n",
       "      <td>0</td>\n",
       "      <td>0</td>\n",
       "      <td>359309</td>\n",
       "      <td>8.0500</td>\n",
       "      <td>NaN</td>\n",
       "      <td>S</td>\n",
       "    </tr>\n",
       "    <tr>\n",
       "      <th>417</th>\n",
       "      <td>1309</td>\n",
       "      <td>3</td>\n",
       "      <td>Peter, Master. Michael J</td>\n",
       "      <td>male</td>\n",
       "      <td>NaN</td>\n",
       "      <td>1</td>\n",
       "      <td>1</td>\n",
       "      <td>2668</td>\n",
       "      <td>22.3583</td>\n",
       "      <td>NaN</td>\n",
       "      <td>C</td>\n",
       "    </tr>\n",
       "  </tbody>\n",
       "</table>\n",
       "<p>418 rows × 11 columns</p>\n",
       "</div>"
      ],
      "text/plain": [
       "     PassengerId  Pclass                                          Name  \\\n",
       "0            892       3                              Kelly, Mr. James   \n",
       "1            893       3              Wilkes, Mrs. James (Ellen Needs)   \n",
       "2            894       2                     Myles, Mr. Thomas Francis   \n",
       "3            895       3                              Wirz, Mr. Albert   \n",
       "4            896       3  Hirvonen, Mrs. Alexander (Helga E Lindqvist)   \n",
       "..           ...     ...                                           ...   \n",
       "413         1305       3                            Spector, Mr. Woolf   \n",
       "414         1306       1                  Oliva y Ocana, Dona. Fermina   \n",
       "415         1307       3                  Saether, Mr. Simon Sivertsen   \n",
       "416         1308       3                           Ware, Mr. Frederick   \n",
       "417         1309       3                      Peter, Master. Michael J   \n",
       "\n",
       "        Sex   Age  SibSp  Parch              Ticket      Fare Cabin Embarked  \n",
       "0      male  34.5      0      0              330911    7.8292   NaN        Q  \n",
       "1    female  47.0      1      0              363272    7.0000   NaN        S  \n",
       "2      male  62.0      0      0              240276    9.6875   NaN        Q  \n",
       "3      male  27.0      0      0              315154    8.6625   NaN        S  \n",
       "4    female  22.0      1      1             3101298   12.2875   NaN        S  \n",
       "..      ...   ...    ...    ...                 ...       ...   ...      ...  \n",
       "413    male   NaN      0      0           A.5. 3236    8.0500   NaN        S  \n",
       "414  female  39.0      0      0            PC 17758  108.9000  C105        C  \n",
       "415    male  38.5      0      0  SOTON/O.Q. 3101262    7.2500   NaN        S  \n",
       "416    male   NaN      0      0              359309    8.0500   NaN        S  \n",
       "417    male   NaN      1      1                2668   22.3583   NaN        C  \n",
       "\n",
       "[418 rows x 11 columns]"
      ]
     },
     "execution_count": 6,
     "metadata": {},
     "output_type": "execute_result"
    }
   ],
   "source": [
    "test_data"
   ]
  },
  {
   "cell_type": "markdown",
   "metadata": {
    "id": "6anmtpP0vUkX"
   },
   "source": [
    "Examining the features, their types, and summary statistics"
   ]
  },
  {
   "cell_type": "code",
   "execution_count": 7,
   "metadata": {
    "colab": {
     "base_uri": "https://localhost:8080/"
    },
    "id": "T3d5Qo9nvQ6I",
    "outputId": "3765300d-179b-4a20-9a61-3ae22d9d0748"
   },
   "outputs": [
    {
     "name": "stdout",
     "output_type": "stream",
     "text": [
      "<class 'pandas.core.frame.DataFrame'>\n",
      "RangeIndex: 891 entries, 0 to 890\n",
      "Data columns (total 12 columns):\n",
      " #   Column       Non-Null Count  Dtype  \n",
      "---  ------       --------------  -----  \n",
      " 0   PassengerId  891 non-null    int64  \n",
      " 1   Survived     891 non-null    int64  \n",
      " 2   Pclass       891 non-null    int64  \n",
      " 3   Name         891 non-null    object \n",
      " 4   Sex          891 non-null    object \n",
      " 5   Age          714 non-null    float64\n",
      " 6   SibSp        891 non-null    int64  \n",
      " 7   Parch        891 non-null    int64  \n",
      " 8   Ticket       891 non-null    object \n",
      " 9   Fare         891 non-null    float64\n",
      " 10  Cabin        204 non-null    object \n",
      " 11  Embarked     889 non-null    object \n",
      "dtypes: float64(2), int64(5), object(5)\n",
      "memory usage: 83.7+ KB\n"
     ]
    }
   ],
   "source": [
    "train_data.info()"
   ]
  },
  {
   "cell_type": "code",
   "execution_count": 8,
   "metadata": {
    "colab": {
     "base_uri": "https://localhost:8080/"
    },
    "id": "JSFCsFUkvgY4",
    "outputId": "c3b87234-cf27-4746-84ce-fbe1cb1ab7c9"
   },
   "outputs": [
    {
     "name": "stdout",
     "output_type": "stream",
     "text": [
      "<class 'pandas.core.frame.DataFrame'>\n",
      "RangeIndex: 418 entries, 0 to 417\n",
      "Data columns (total 11 columns):\n",
      " #   Column       Non-Null Count  Dtype  \n",
      "---  ------       --------------  -----  \n",
      " 0   PassengerId  418 non-null    int64  \n",
      " 1   Pclass       418 non-null    int64  \n",
      " 2   Name         418 non-null    object \n",
      " 3   Sex          418 non-null    object \n",
      " 4   Age          332 non-null    float64\n",
      " 5   SibSp        418 non-null    int64  \n",
      " 6   Parch        418 non-null    int64  \n",
      " 7   Ticket       418 non-null    object \n",
      " 8   Fare         417 non-null    float64\n",
      " 9   Cabin        91 non-null     object \n",
      " 10  Embarked     418 non-null    object \n",
      "dtypes: float64(2), int64(4), object(5)\n",
      "memory usage: 36.1+ KB\n"
     ]
    }
   ],
   "source": [
    "test_data.info()"
   ]
  },
  {
   "cell_type": "markdown",
   "metadata": {
    "id": "cjHUWge2NS73"
   },
   "source": [
    "Summary statistics for numerical features"
   ]
  },
  {
   "cell_type": "code",
   "execution_count": 9,
   "metadata": {
    "colab": {
     "base_uri": "https://localhost:8080/",
     "height": 300
    },
    "id": "eLwS9qy2vYtD",
    "outputId": "e7b30a17-d61f-4c3b-9561-69a7188db2e2"
   },
   "outputs": [
    {
     "data": {
      "text/html": [
       "<div>\n",
       "<style scoped>\n",
       "    .dataframe tbody tr th:only-of-type {\n",
       "        vertical-align: middle;\n",
       "    }\n",
       "\n",
       "    .dataframe tbody tr th {\n",
       "        vertical-align: top;\n",
       "    }\n",
       "\n",
       "    .dataframe thead th {\n",
       "        text-align: right;\n",
       "    }\n",
       "</style>\n",
       "<table border=\"1\" class=\"dataframe\">\n",
       "  <thead>\n",
       "    <tr style=\"text-align: right;\">\n",
       "      <th></th>\n",
       "      <th>PassengerId</th>\n",
       "      <th>Survived</th>\n",
       "      <th>Pclass</th>\n",
       "      <th>Age</th>\n",
       "      <th>SibSp</th>\n",
       "      <th>Parch</th>\n",
       "      <th>Fare</th>\n",
       "    </tr>\n",
       "  </thead>\n",
       "  <tbody>\n",
       "    <tr>\n",
       "      <th>count</th>\n",
       "      <td>891.000000</td>\n",
       "      <td>891.000000</td>\n",
       "      <td>891.000000</td>\n",
       "      <td>714.000000</td>\n",
       "      <td>891.000000</td>\n",
       "      <td>891.000000</td>\n",
       "      <td>891.000000</td>\n",
       "    </tr>\n",
       "    <tr>\n",
       "      <th>mean</th>\n",
       "      <td>446.000000</td>\n",
       "      <td>0.383838</td>\n",
       "      <td>2.308642</td>\n",
       "      <td>29.699118</td>\n",
       "      <td>0.523008</td>\n",
       "      <td>0.381594</td>\n",
       "      <td>32.204208</td>\n",
       "    </tr>\n",
       "    <tr>\n",
       "      <th>std</th>\n",
       "      <td>257.353842</td>\n",
       "      <td>0.486592</td>\n",
       "      <td>0.836071</td>\n",
       "      <td>14.526497</td>\n",
       "      <td>1.102743</td>\n",
       "      <td>0.806057</td>\n",
       "      <td>49.693429</td>\n",
       "    </tr>\n",
       "    <tr>\n",
       "      <th>min</th>\n",
       "      <td>1.000000</td>\n",
       "      <td>0.000000</td>\n",
       "      <td>1.000000</td>\n",
       "      <td>0.420000</td>\n",
       "      <td>0.000000</td>\n",
       "      <td>0.000000</td>\n",
       "      <td>0.000000</td>\n",
       "    </tr>\n",
       "    <tr>\n",
       "      <th>25%</th>\n",
       "      <td>223.500000</td>\n",
       "      <td>0.000000</td>\n",
       "      <td>2.000000</td>\n",
       "      <td>20.125000</td>\n",
       "      <td>0.000000</td>\n",
       "      <td>0.000000</td>\n",
       "      <td>7.910400</td>\n",
       "    </tr>\n",
       "    <tr>\n",
       "      <th>50%</th>\n",
       "      <td>446.000000</td>\n",
       "      <td>0.000000</td>\n",
       "      <td>3.000000</td>\n",
       "      <td>28.000000</td>\n",
       "      <td>0.000000</td>\n",
       "      <td>0.000000</td>\n",
       "      <td>14.454200</td>\n",
       "    </tr>\n",
       "    <tr>\n",
       "      <th>75%</th>\n",
       "      <td>668.500000</td>\n",
       "      <td>1.000000</td>\n",
       "      <td>3.000000</td>\n",
       "      <td>38.000000</td>\n",
       "      <td>1.000000</td>\n",
       "      <td>0.000000</td>\n",
       "      <td>31.000000</td>\n",
       "    </tr>\n",
       "    <tr>\n",
       "      <th>max</th>\n",
       "      <td>891.000000</td>\n",
       "      <td>1.000000</td>\n",
       "      <td>3.000000</td>\n",
       "      <td>80.000000</td>\n",
       "      <td>8.000000</td>\n",
       "      <td>6.000000</td>\n",
       "      <td>512.329200</td>\n",
       "    </tr>\n",
       "  </tbody>\n",
       "</table>\n",
       "</div>"
      ],
      "text/plain": [
       "       PassengerId    Survived      Pclass         Age       SibSp  \\\n",
       "count   891.000000  891.000000  891.000000  714.000000  891.000000   \n",
       "mean    446.000000    0.383838    2.308642   29.699118    0.523008   \n",
       "std     257.353842    0.486592    0.836071   14.526497    1.102743   \n",
       "min       1.000000    0.000000    1.000000    0.420000    0.000000   \n",
       "25%     223.500000    0.000000    2.000000   20.125000    0.000000   \n",
       "50%     446.000000    0.000000    3.000000   28.000000    0.000000   \n",
       "75%     668.500000    1.000000    3.000000   38.000000    1.000000   \n",
       "max     891.000000    1.000000    3.000000   80.000000    8.000000   \n",
       "\n",
       "            Parch        Fare  \n",
       "count  891.000000  891.000000  \n",
       "mean     0.381594   32.204208  \n",
       "std      0.806057   49.693429  \n",
       "min      0.000000    0.000000  \n",
       "25%      0.000000    7.910400  \n",
       "50%      0.000000   14.454200  \n",
       "75%      0.000000   31.000000  \n",
       "max      6.000000  512.329200  "
      ]
     },
     "execution_count": 9,
     "metadata": {},
     "output_type": "execute_result"
    }
   ],
   "source": [
    "train_data.describe()"
   ]
  },
  {
   "cell_type": "code",
   "execution_count": 10,
   "metadata": {
    "colab": {
     "base_uri": "https://localhost:8080/",
     "height": 300
    },
    "id": "kM0ffrIQvbjZ",
    "outputId": "1e647792-c976-4c69-8786-fc4feeaf9625"
   },
   "outputs": [
    {
     "data": {
      "text/html": [
       "<div>\n",
       "<style scoped>\n",
       "    .dataframe tbody tr th:only-of-type {\n",
       "        vertical-align: middle;\n",
       "    }\n",
       "\n",
       "    .dataframe tbody tr th {\n",
       "        vertical-align: top;\n",
       "    }\n",
       "\n",
       "    .dataframe thead th {\n",
       "        text-align: right;\n",
       "    }\n",
       "</style>\n",
       "<table border=\"1\" class=\"dataframe\">\n",
       "  <thead>\n",
       "    <tr style=\"text-align: right;\">\n",
       "      <th></th>\n",
       "      <th>PassengerId</th>\n",
       "      <th>Pclass</th>\n",
       "      <th>Age</th>\n",
       "      <th>SibSp</th>\n",
       "      <th>Parch</th>\n",
       "      <th>Fare</th>\n",
       "    </tr>\n",
       "  </thead>\n",
       "  <tbody>\n",
       "    <tr>\n",
       "      <th>count</th>\n",
       "      <td>418.000000</td>\n",
       "      <td>418.000000</td>\n",
       "      <td>332.000000</td>\n",
       "      <td>418.000000</td>\n",
       "      <td>418.000000</td>\n",
       "      <td>417.000000</td>\n",
       "    </tr>\n",
       "    <tr>\n",
       "      <th>mean</th>\n",
       "      <td>1100.500000</td>\n",
       "      <td>2.265550</td>\n",
       "      <td>30.272590</td>\n",
       "      <td>0.447368</td>\n",
       "      <td>0.392344</td>\n",
       "      <td>35.627188</td>\n",
       "    </tr>\n",
       "    <tr>\n",
       "      <th>std</th>\n",
       "      <td>120.810458</td>\n",
       "      <td>0.841838</td>\n",
       "      <td>14.181209</td>\n",
       "      <td>0.896760</td>\n",
       "      <td>0.981429</td>\n",
       "      <td>55.907576</td>\n",
       "    </tr>\n",
       "    <tr>\n",
       "      <th>min</th>\n",
       "      <td>892.000000</td>\n",
       "      <td>1.000000</td>\n",
       "      <td>0.170000</td>\n",
       "      <td>0.000000</td>\n",
       "      <td>0.000000</td>\n",
       "      <td>0.000000</td>\n",
       "    </tr>\n",
       "    <tr>\n",
       "      <th>25%</th>\n",
       "      <td>996.250000</td>\n",
       "      <td>1.000000</td>\n",
       "      <td>21.000000</td>\n",
       "      <td>0.000000</td>\n",
       "      <td>0.000000</td>\n",
       "      <td>7.895800</td>\n",
       "    </tr>\n",
       "    <tr>\n",
       "      <th>50%</th>\n",
       "      <td>1100.500000</td>\n",
       "      <td>3.000000</td>\n",
       "      <td>27.000000</td>\n",
       "      <td>0.000000</td>\n",
       "      <td>0.000000</td>\n",
       "      <td>14.454200</td>\n",
       "    </tr>\n",
       "    <tr>\n",
       "      <th>75%</th>\n",
       "      <td>1204.750000</td>\n",
       "      <td>3.000000</td>\n",
       "      <td>39.000000</td>\n",
       "      <td>1.000000</td>\n",
       "      <td>0.000000</td>\n",
       "      <td>31.500000</td>\n",
       "    </tr>\n",
       "    <tr>\n",
       "      <th>max</th>\n",
       "      <td>1309.000000</td>\n",
       "      <td>3.000000</td>\n",
       "      <td>76.000000</td>\n",
       "      <td>8.000000</td>\n",
       "      <td>9.000000</td>\n",
       "      <td>512.329200</td>\n",
       "    </tr>\n",
       "  </tbody>\n",
       "</table>\n",
       "</div>"
      ],
      "text/plain": [
       "       PassengerId      Pclass         Age       SibSp       Parch        Fare\n",
       "count   418.000000  418.000000  332.000000  418.000000  418.000000  417.000000\n",
       "mean   1100.500000    2.265550   30.272590    0.447368    0.392344   35.627188\n",
       "std     120.810458    0.841838   14.181209    0.896760    0.981429   55.907576\n",
       "min     892.000000    1.000000    0.170000    0.000000    0.000000    0.000000\n",
       "25%     996.250000    1.000000   21.000000    0.000000    0.000000    7.895800\n",
       "50%    1100.500000    3.000000   27.000000    0.000000    0.000000   14.454200\n",
       "75%    1204.750000    3.000000   39.000000    1.000000    0.000000   31.500000\n",
       "max    1309.000000    3.000000   76.000000    8.000000    9.000000  512.329200"
      ]
     },
     "execution_count": 10,
     "metadata": {},
     "output_type": "execute_result"
    }
   ],
   "source": [
    "test_data.describe()"
   ]
  },
  {
   "cell_type": "code",
   "execution_count": 11,
   "metadata": {
    "colab": {
     "base_uri": "https://localhost:8080/"
    },
    "id": "lZ89AarjM_Qz",
    "outputId": "206eef06-34a8-48f9-8b20-371ec0f61bdb"
   },
   "outputs": [
    {
     "name": "stdout",
     "output_type": "stream",
     "text": [
      "   PassengerId  Survived  Pclass  \\\n",
      "0            1         0       3   \n",
      "1            2         1       1   \n",
      "2            3         1       3   \n",
      "3            4         1       1   \n",
      "4            5         0       3   \n",
      "\n",
      "                                                Name     Sex   Age  SibSp  \\\n",
      "0                            Braund, Mr. Owen Harris    male  22.0      1   \n",
      "1  Cumings, Mrs. John Bradley (Florence Briggs Th...  female  38.0      1   \n",
      "2                             Heikkinen, Miss. Laina  female  26.0      0   \n",
      "3       Futrelle, Mrs. Jacques Heath (Lily May Peel)  female  35.0      1   \n",
      "4                           Allen, Mr. William Henry    male  35.0      0   \n",
      "\n",
      "   Parch            Ticket     Fare Cabin Embarked  \n",
      "0      0         A/5 21171   7.2500   NaN        S  \n",
      "1      0          PC 17599  71.2833   C85        C  \n",
      "2      0  STON/O2. 3101282   7.9250   NaN        S  \n",
      "3      0            113803  53.1000  C123        S  \n",
      "4      0            373450   8.0500   NaN        S  \n"
     ]
    }
   ],
   "source": [
    "print(train_data.head())"
   ]
  },
  {
   "cell_type": "markdown",
   "metadata": {
    "id": "uLBmnrewNGZ0"
   },
   "source": [
    "Summary statistics for categorical features"
   ]
  },
  {
   "cell_type": "code",
   "execution_count": 12,
   "metadata": {
    "colab": {
     "base_uri": "https://localhost:8080/"
    },
    "id": "ABwK0sZyNFNB",
    "outputId": "2e35798f-7fab-4a37-9742-a4b1f2db6048"
   },
   "outputs": [
    {
     "name": "stdout",
     "output_type": "stream",
     "text": [
      "                           Name   Sex  Ticket    Cabin Embarked\n",
      "count                       891   891     891      204      889\n",
      "unique                      891     2     681      147        3\n",
      "top     Braund, Mr. Owen Harris  male  347082  B96 B98        S\n",
      "freq                          1   577       7        4      644\n"
     ]
    }
   ],
   "source": [
    "print(train_data.describe(include=['O']))"
   ]
  },
  {
   "cell_type": "code",
   "execution_count": 13,
   "metadata": {
    "colab": {
     "base_uri": "https://localhost:8080/"
    },
    "id": "aYtlf-jlNMze",
    "outputId": "06eced63-3944-4db2-b86f-3a4651457f24"
   },
   "outputs": [
    {
     "name": "stdout",
     "output_type": "stream",
     "text": [
      "                    Name   Sex    Ticket            Cabin Embarked\n",
      "count                418   418       418               91      418\n",
      "unique               418     2       363               76        3\n",
      "top     Kelly, Mr. James  male  PC 17608  B57 B59 B63 B66        S\n",
      "freq                   1   266         5                3      270\n"
     ]
    }
   ],
   "source": [
    "print(test_data.describe(include=['O']))"
   ]
  },
  {
   "cell_type": "markdown",
   "metadata": {
    "id": "y0sHCzxpvo1C"
   },
   "source": [
    "Creating visualizations"
   ]
  },
  {
   "cell_type": "code",
   "execution_count": 14,
   "metadata": {
    "id": "KfL_gXKdvkwP"
   },
   "outputs": [],
   "source": [
    "import matplotlib.pyplot as plt\n",
    "import seaborn as sns"
   ]
  },
  {
   "cell_type": "markdown",
   "metadata": {
    "id": "t65JBf_Rvvs7"
   },
   "source": [
    "Creating a histogram for the Age feature in the Titanic_train dataset"
   ]
  },
  {
   "cell_type": "code",
   "execution_count": 15,
   "metadata": {
    "colab": {
     "base_uri": "https://localhost:8080/",
     "height": 564
    },
    "id": "EizHQ1kpvsCq",
    "outputId": "05f580bd-54b8-4414-8c17-785dfb2ccbc5"
   },
   "outputs": [
    {
     "data": {
      "image/png": "[encoded data removed]",
      "text/plain": [
       "<Figure size 1000x600 with 1 Axes>"
      ]
     },
     "metadata": {},
     "output_type": "display_data"
    }
   ],
   "source": [
    "plt.figure(figsize=(10, 6))\n",
    "sns.histplot(train_data['Age'].dropna(), kde=True)\n",
    "plt.title('Age Distribution')\n",
    "plt.show()"
   ]
  },
  {
   "cell_type": "markdown",
   "metadata": {
    "id": "ZhGCE_XVwCeD"
   },
   "source": [
    "Creating a box plot for the Fare feature in the Titanic_train dataset"
   ]
  },
  {
   "cell_type": "code",
   "execution_count": 16,
   "metadata": {
    "colab": {
     "base_uri": "https://localhost:8080/",
     "height": 564
    },
    "id": "LLvTFGA3v084",
    "outputId": "d0422dd2-11b6-4861-fc31-9a2f6bac09e0"
   },
   "outputs": [
    {
     "data": {
      "image/png": "[encoded data removed]",
      "text/plain": [
       "<Figure size 1000x600 with 1 Axes>"
      ]
     },
     "metadata": {},
     "output_type": "display_data"
    }
   ],
   "source": [
    "plt.figure(figsize=(10, 6))\n",
    "sns.boxplot(x='Pclass', y='Age', data=train_data)\n",
    "plt.title('Age vs Pclass')\n",
    "plt.show()"
   ]
  },
  {
   "cell_type": "markdown",
   "metadata": {
    "id": "K8119LzdwJyw"
   },
   "source": [
    "Creating a pair plot for the Age and Fare features in the Titanic_train dataset"
   ]
  },
  {
   "cell_type": "code",
   "execution_count": 17,
   "metadata": {
    "colab": {
     "base_uri": "https://localhost:8080/",
     "height": 1000
    },
    "id": "ayTXCtj1wGJ7",
    "outputId": "986d43f2-97b6-422f-bf8b-16c08a1e20d6"
   },
   "outputs": [
    {
     "name": "stderr",
     "output_type": "stream",
     "text": [
      "C:\\Users\\PAVAN\\anaconda3\\Lib\\site-packages\\seaborn\\axisgrid.py:118: UserWarning: The figure layout has changed to tight\n",
      "  self._figure.tight_layout(*args, **kwargs)\n"
     ]
    },
    {
     "data": {
      "image/png": "[encoded data removed]",
      "text/plain": [
       "<Figure size 1000x1000 with 20 Axes>"
      ]
     },
     "metadata": {},
     "output_type": "display_data"
    }
   ],
   "source": [
    "selected_features = ['Age', 'Fare', 'SibSp', 'Parch']\n",
    "sns.pairplot(train_data[selected_features].dropna())\n",
    "plt.show()"
   ]
  },
  {
   "cell_type": "markdown",
   "metadata": {
    "id": "rhWI7-SsN899"
   },
   "source": [
    "Heatmap of correlations between numerical features"
   ]
  },
  {
   "cell_type": "code",
   "execution_count": 18,
   "metadata": {
    "colab": {
     "base_uri": "https://localhost:8080/",
     "height": 699
    },
    "id": "C1XeBIPTN_WY",
    "outputId": "16a50b29-4ff4-4610-a7aa-722c4d240510"
   },
   "outputs": [
    {
     "data": {
      "image/png": "[encoded data removed]",
      "text/plain": [
       "<Figure size 1000x800 with 2 Axes>"
      ]
     },
     "metadata": {},
     "output_type": "display_data"
    }
   ],
   "source": [
    "plt.figure(figsize=(10, 8))\n",
    "sns.heatmap(train_data[selected_features].corr(), annot=True, cmap='coolwarm')\n",
    "plt.title('Correlation Heatmap')\n",
    "plt.show()"
   ]
  },
  {
   "cell_type": "markdown",
   "metadata": {
    "id": "lL0O5PT428F1"
   },
   "source": [
    "# Task 2: Data Preprocessing"
   ]
  },
  {
   "cell_type": "markdown",
   "metadata": {
    "id": "6bkdVN4HOQUV"
   },
   "source": [
    "Filling missing Age values with median age"
   ]
  },
  {
   "cell_type": "code",
   "execution_count": 19,
   "metadata": {
    "id": "4ayOEQhqyCTw"
   },
   "outputs": [],
   "source": [
    "train_data['Age'].fillna(train_data['Age'].median(), inplace=True)\n",
    "test_data['Age'].fillna(test_data['Age'].median(), inplace=True)"
   ]
  },
  {
   "cell_type": "markdown",
   "metadata": {
    "id": "qfgK7NmKOXpG"
   },
   "source": [
    "Filling missing Embarked values with the most common port"
   ]
  },
  {
   "cell_type": "code",
   "execution_count": 20,
   "metadata": {
    "id": "TyS9IAmWCYpy"
   },
   "outputs": [],
   "source": [
    "train_data['Embarked'].fillna(train_data['Embarked'].mode()[0], inplace=True)\n",
    "test_data['Embarked'].fillna(test_data['Embarked'].mode()[0], inplace=True)"
   ]
  },
  {
   "cell_type": "markdown",
   "metadata": {
    "id": "o8fXlQuUOdt_"
   },
   "source": [
    "Filling missing Fare values with median fare"
   ]
  },
  {
   "cell_type": "code",
   "execution_count": 21,
   "metadata": {
    "id": "ya6fVgteCdUG"
   },
   "outputs": [],
   "source": [
    "test_data['Fare'].fillna(test_data['Fare'].median(), inplace=True)"
   ]
  },
  {
   "cell_type": "markdown",
   "metadata": {
    "id": "EOpB5fsbOkwu"
   },
   "source": [
    "Encoding categorical variables"
   ]
  },
  {
   "cell_type": "code",
   "execution_count": 22,
   "metadata": {
    "id": "1m_PVoocCoPC"
   },
   "outputs": [],
   "source": [
    "train_data = pd.get_dummies(train_data, columns=['Sex', 'Embarked'], drop_first=True)\n",
    "test_data = pd.get_dummies(test_data, columns=['Sex', 'Embarked'], drop_first=True)"
   ]
  },
  {
   "cell_type": "code",
   "execution_count": 23,
   "metadata": {
    "colab": {
     "base_uri": "https://localhost:8080/",
     "height": 423
    },
    "id": "zObHCZarO5He",
    "outputId": "24fc762d-a491-4d91-bca2-842387ff2141"
   },
   "outputs": [
    {
     "data": {
      "text/html": [
       "<div>\n",
       "<style scoped>\n",
       "    .dataframe tbody tr th:only-of-type {\n",
       "        vertical-align: middle;\n",
       "    }\n",
       "\n",
       "    .dataframe tbody tr th {\n",
       "        vertical-align: top;\n",
       "    }\n",
       "\n",
       "    .dataframe thead th {\n",
       "        text-align: right;\n",
       "    }\n",
       "</style>\n",
       "<table border=\"1\" class=\"dataframe\">\n",
       "  <thead>\n",
       "    <tr style=\"text-align: right;\">\n",
       "      <th></th>\n",
       "      <th>PassengerId</th>\n",
       "      <th>Survived</th>\n",
       "      <th>Pclass</th>\n",
       "      <th>Name</th>\n",
       "      <th>Age</th>\n",
       "      <th>SibSp</th>\n",
       "      <th>Parch</th>\n",
       "      <th>Ticket</th>\n",
       "      <th>Fare</th>\n",
       "      <th>Cabin</th>\n",
       "      <th>Sex_male</th>\n",
       "      <th>Embarked_Q</th>\n",
       "      <th>Embarked_S</th>\n",
       "    </tr>\n",
       "  </thead>\n",
       "  <tbody>\n",
       "    <tr>\n",
       "      <th>0</th>\n",
       "      <td>1</td>\n",
       "      <td>0</td>\n",
       "      <td>3</td>\n",
       "      <td>Braund, Mr. Owen Harris</td>\n",
       "      <td>22.0</td>\n",
       "      <td>1</td>\n",
       "      <td>0</td>\n",
       "      <td>A/5 21171</td>\n",
       "      <td>7.2500</td>\n",
       "      <td>NaN</td>\n",
       "      <td>True</td>\n",
       "      <td>False</td>\n",
       "      <td>True</td>\n",
       "    </tr>\n",
       "    <tr>\n",
       "      <th>1</th>\n",
       "      <td>2</td>\n",
       "      <td>1</td>\n",
       "      <td>1</td>\n",
       "      <td>Cumings, Mrs. John Bradley (Florence Briggs Th...</td>\n",
       "      <td>38.0</td>\n",
       "      <td>1</td>\n",
       "      <td>0</td>\n",
       "      <td>PC 17599</td>\n",
       "      <td>71.2833</td>\n",
       "      <td>C85</td>\n",
       "      <td>False</td>\n",
       "      <td>False</td>\n",
       "      <td>False</td>\n",
       "    </tr>\n",
       "    <tr>\n",
       "      <th>2</th>\n",
       "      <td>3</td>\n",
       "      <td>1</td>\n",
       "      <td>3</td>\n",
       "      <td>Heikkinen, Miss. Laina</td>\n",
       "      <td>26.0</td>\n",
       "      <td>0</td>\n",
       "      <td>0</td>\n",
       "      <td>STON/O2. 3101282</td>\n",
       "      <td>7.9250</td>\n",
       "      <td>NaN</td>\n",
       "      <td>False</td>\n",
       "      <td>False</td>\n",
       "      <td>True</td>\n",
       "    </tr>\n",
       "    <tr>\n",
       "      <th>3</th>\n",
       "      <td>4</td>\n",
       "      <td>1</td>\n",
       "      <td>1</td>\n",
       "      <td>Futrelle, Mrs. Jacques Heath (Lily May Peel)</td>\n",
       "      <td>35.0</td>\n",
       "      <td>1</td>\n",
       "      <td>0</td>\n",
       "      <td>113803</td>\n",
       "      <td>53.1000</td>\n",
       "      <td>C123</td>\n",
       "      <td>False</td>\n",
       "      <td>False</td>\n",
       "      <td>True</td>\n",
       "    </tr>\n",
       "    <tr>\n",
       "      <th>4</th>\n",
       "      <td>5</td>\n",
       "      <td>0</td>\n",
       "      <td>3</td>\n",
       "      <td>Allen, Mr. William Henry</td>\n",
       "      <td>35.0</td>\n",
       "      <td>0</td>\n",
       "      <td>0</td>\n",
       "      <td>373450</td>\n",
       "      <td>8.0500</td>\n",
       "      <td>NaN</td>\n",
       "      <td>True</td>\n",
       "      <td>False</td>\n",
       "      <td>True</td>\n",
       "    </tr>\n",
       "    <tr>\n",
       "      <th>...</th>\n",
       "      <td>...</td>\n",
       "      <td>...</td>\n",
       "      <td>...</td>\n",
       "      <td>...</td>\n",
       "      <td>...</td>\n",
       "      <td>...</td>\n",
       "      <td>...</td>\n",
       "      <td>...</td>\n",
       "      <td>...</td>\n",
       "      <td>...</td>\n",
       "      <td>...</td>\n",
       "      <td>...</td>\n",
       "      <td>...</td>\n",
       "    </tr>\n",
       "    <tr>\n",
       "      <th>886</th>\n",
       "      <td>887</td>\n",
       "      <td>0</td>\n",
       "      <td>2</td>\n",
       "      <td>Montvila, Rev. Juozas</td>\n",
       "      <td>27.0</td>\n",
       "      <td>0</td>\n",
       "      <td>0</td>\n",
       "      <td>211536</td>\n",
       "      <td>13.0000</td>\n",
       "      <td>NaN</td>\n",
       "      <td>True</td>\n",
       "      <td>False</td>\n",
       "      <td>True</td>\n",
       "    </tr>\n",
       "    <tr>\n",
       "      <th>887</th>\n",
       "      <td>888</td>\n",
       "      <td>1</td>\n",
       "      <td>1</td>\n",
       "      <td>Graham, Miss. Margaret Edith</td>\n",
       "      <td>19.0</td>\n",
       "      <td>0</td>\n",
       "      <td>0</td>\n",
       "      <td>112053</td>\n",
       "      <td>30.0000</td>\n",
       "      <td>B42</td>\n",
       "      <td>False</td>\n",
       "      <td>False</td>\n",
       "      <td>True</td>\n",
       "    </tr>\n",
       "    <tr>\n",
       "      <th>888</th>\n",
       "      <td>889</td>\n",
       "      <td>0</td>\n",
       "      <td>3</td>\n",
       "      <td>Johnston, Miss. Catherine Helen \"Carrie\"</td>\n",
       "      <td>28.0</td>\n",
       "      <td>1</td>\n",
       "      <td>2</td>\n",
       "      <td>W./C. 6607</td>\n",
       "      <td>23.4500</td>\n",
       "      <td>NaN</td>\n",
       "      <td>False</td>\n",
       "      <td>False</td>\n",
       "      <td>True</td>\n",
       "    </tr>\n",
       "    <tr>\n",
       "      <th>889</th>\n",
       "      <td>890</td>\n",
       "      <td>1</td>\n",
       "      <td>1</td>\n",
       "      <td>Behr, Mr. Karl Howell</td>\n",
       "      <td>26.0</td>\n",
       "      <td>0</td>\n",
       "      <td>0</td>\n",
       "      <td>111369</td>\n",
       "      <td>30.0000</td>\n",
       "      <td>C148</td>\n",
       "      <td>True</td>\n",
       "      <td>False</td>\n",
       "      <td>False</td>\n",
       "    </tr>\n",
       "    <tr>\n",
       "      <th>890</th>\n",
       "      <td>891</td>\n",
       "      <td>0</td>\n",
       "      <td>3</td>\n",
       "      <td>Dooley, Mr. Patrick</td>\n",
       "      <td>32.0</td>\n",
       "      <td>0</td>\n",
       "      <td>0</td>\n",
       "      <td>370376</td>\n",
       "      <td>7.7500</td>\n",
       "      <td>NaN</td>\n",
       "      <td>True</td>\n",
       "      <td>True</td>\n",
       "      <td>False</td>\n",
       "    </tr>\n",
       "  </tbody>\n",
       "</table>\n",
       "<p>891 rows × 13 columns</p>\n",
       "</div>"
      ],
      "text/plain": [
       "     PassengerId  Survived  Pclass  \\\n",
       "0              1         0       3   \n",
       "1              2         1       1   \n",
       "2              3         1       3   \n",
       "3              4         1       1   \n",
       "4              5         0       3   \n",
       "..           ...       ...     ...   \n",
       "886          887         0       2   \n",
       "887          888         1       1   \n",
       "888          889         0       3   \n",
       "889          890         1       1   \n",
       "890          891         0       3   \n",
       "\n",
       "                                                  Name   Age  SibSp  Parch  \\\n",
       "0                              Braund, Mr. Owen Harris  22.0      1      0   \n",
       "1    Cumings, Mrs. John Bradley (Florence Briggs Th...  38.0      1      0   \n",
       "2                               Heikkinen, Miss. Laina  26.0      0      0   \n",
       "3         Futrelle, Mrs. Jacques Heath (Lily May Peel)  35.0      1      0   \n",
       "4                             Allen, Mr. William Henry  35.0      0      0   \n",
       "..                                                 ...   ...    ...    ...   \n",
       "886                              Montvila, Rev. Juozas  27.0      0      0   \n",
       "887                       Graham, Miss. Margaret Edith  19.0      0      0   \n",
       "888           Johnston, Miss. Catherine Helen \"Carrie\"  28.0      1      2   \n",
       "889                              Behr, Mr. Karl Howell  26.0      0      0   \n",
       "890                                Dooley, Mr. Patrick  32.0      0      0   \n",
       "\n",
       "               Ticket     Fare Cabin  Sex_male  Embarked_Q  Embarked_S  \n",
       "0           A/5 21171   7.2500   NaN      True       False        True  \n",
       "1            PC 17599  71.2833   C85     False       False       False  \n",
       "2    STON/O2. 3101282   7.9250   NaN     False       False        True  \n",
       "3              113803  53.1000  C123     False       False        True  \n",
       "4              373450   8.0500   NaN      True       False        True  \n",
       "..                ...      ...   ...       ...         ...         ...  \n",
       "886            211536  13.0000   NaN      True       False        True  \n",
       "887            112053  30.0000   B42     False       False        True  \n",
       "888        W./C. 6607  23.4500   NaN     False       False        True  \n",
       "889            111369  30.0000  C148      True       False       False  \n",
       "890            370376   7.7500   NaN      True        True       False  \n",
       "\n",
       "[891 rows x 13 columns]"
      ]
     },
     "execution_count": 23,
     "metadata": {},
     "output_type": "execute_result"
    }
   ],
   "source": [
    "train_data"
   ]
  },
  {
   "cell_type": "code",
   "execution_count": 24,
   "metadata": {
    "colab": {
     "base_uri": "https://localhost:8080/",
     "height": 423
    },
    "id": "2awA7lNAO7X-",
    "outputId": "0eeec15e-72bc-4221-93ac-2bfb6d7aaec8"
   },
   "outputs": [
    {
     "data": {
      "text/html": [
       "<div>\n",
       "<style scoped>\n",
       "    .dataframe tbody tr th:only-of-type {\n",
       "        vertical-align: middle;\n",
       "    }\n",
       "\n",
       "    .dataframe tbody tr th {\n",
       "        vertical-align: top;\n",
       "    }\n",
       "\n",
       "    .dataframe thead th {\n",
       "        text-align: right;\n",
       "    }\n",
       "</style>\n",
       "<table border=\"1\" class=\"dataframe\">\n",
       "  <thead>\n",
       "    <tr style=\"text-align: right;\">\n",
       "      <th></th>\n",
       "      <th>PassengerId</th>\n",
       "      <th>Pclass</th>\n",
       "      <th>Name</th>\n",
       "      <th>Age</th>\n",
       "      <th>SibSp</th>\n",
       "      <th>Parch</th>\n",
       "      <th>Ticket</th>\n",
       "      <th>Fare</th>\n",
       "      <th>Cabin</th>\n",
       "      <th>Sex_male</th>\n",
       "      <th>Embarked_Q</th>\n",
       "      <th>Embarked_S</th>\n",
       "    </tr>\n",
       "  </thead>\n",
       "  <tbody>\n",
       "    <tr>\n",
       "      <th>0</th>\n",
       "      <td>892</td>\n",
       "      <td>3</td>\n",
       "      <td>Kelly, Mr. James</td>\n",
       "      <td>34.5</td>\n",
       "      <td>0</td>\n",
       "      <td>0</td>\n",
       "      <td>330911</td>\n",
       "      <td>7.8292</td>\n",
       "      <td>NaN</td>\n",
       "      <td>True</td>\n",
       "      <td>True</td>\n",
       "      <td>False</td>\n",
       "    </tr>\n",
       "    <tr>\n",
       "      <th>1</th>\n",
       "      <td>893</td>\n",
       "      <td>3</td>\n",
       "      <td>Wilkes, Mrs. James (Ellen Needs)</td>\n",
       "      <td>47.0</td>\n",
       "      <td>1</td>\n",
       "      <td>0</td>\n",
       "      <td>363272</td>\n",
       "      <td>7.0000</td>\n",
       "      <td>NaN</td>\n",
       "      <td>False</td>\n",
       "      <td>False</td>\n",
       "      <td>True</td>\n",
       "    </tr>\n",
       "    <tr>\n",
       "      <th>2</th>\n",
       "      <td>894</td>\n",
       "      <td>2</td>\n",
       "      <td>Myles, Mr. Thomas Francis</td>\n",
       "      <td>62.0</td>\n",
       "      <td>0</td>\n",
       "      <td>0</td>\n",
       "      <td>240276</td>\n",
       "      <td>9.6875</td>\n",
       "      <td>NaN</td>\n",
       "      <td>True</td>\n",
       "      <td>True</td>\n",
       "      <td>False</td>\n",
       "    </tr>\n",
       "    <tr>\n",
       "      <th>3</th>\n",
       "      <td>895</td>\n",
       "      <td>3</td>\n",
       "      <td>Wirz, Mr. Albert</td>\n",
       "      <td>27.0</td>\n",
       "      <td>0</td>\n",
       "      <td>0</td>\n",
       "      <td>315154</td>\n",
       "      <td>8.6625</td>\n",
       "      <td>NaN</td>\n",
       "      <td>True</td>\n",
       "      <td>False</td>\n",
       "      <td>True</td>\n",
       "    </tr>\n",
       "    <tr>\n",
       "      <th>4</th>\n",
       "      <td>896</td>\n",
       "      <td>3</td>\n",
       "      <td>Hirvonen, Mrs. Alexander (Helga E Lindqvist)</td>\n",
       "      <td>22.0</td>\n",
       "      <td>1</td>\n",
       "      <td>1</td>\n",
       "      <td>3101298</td>\n",
       "      <td>12.2875</td>\n",
       "      <td>NaN</td>\n",
       "      <td>False</td>\n",
       "      <td>False</td>\n",
       "      <td>True</td>\n",
       "    </tr>\n",
       "    <tr>\n",
       "      <th>...</th>\n",
       "      <td>...</td>\n",
       "      <td>...</td>\n",
       "      <td>...</td>\n",
       "      <td>...</td>\n",
       "      <td>...</td>\n",
       "      <td>...</td>\n",
       "      <td>...</td>\n",
       "      <td>...</td>\n",
       "      <td>...</td>\n",
       "      <td>...</td>\n",
       "      <td>...</td>\n",
       "      <td>...</td>\n",
       "    </tr>\n",
       "    <tr>\n",
       "      <th>413</th>\n",
       "      <td>1305</td>\n",
       "      <td>3</td>\n",
       "      <td>Spector, Mr. Woolf</td>\n",
       "      <td>27.0</td>\n",
       "      <td>0</td>\n",
       "      <td>0</td>\n",
       "      <td>A.5. 3236</td>\n",
       "      <td>8.0500</td>\n",
       "      <td>NaN</td>\n",
       "      <td>True</td>\n",
       "      <td>False</td>\n",
       "      <td>True</td>\n",
       "    </tr>\n",
       "    <tr>\n",
       "      <th>414</th>\n",
       "      <td>1306</td>\n",
       "      <td>1</td>\n",
       "      <td>Oliva y Ocana, Dona. Fermina</td>\n",
       "      <td>39.0</td>\n",
       "      <td>0</td>\n",
       "      <td>0</td>\n",
       "      <td>PC 17758</td>\n",
       "      <td>108.9000</td>\n",
       "      <td>C105</td>\n",
       "      <td>False</td>\n",
       "      <td>False</td>\n",
       "      <td>False</td>\n",
       "    </tr>\n",
       "    <tr>\n",
       "      <th>415</th>\n",
       "      <td>1307</td>\n",
       "      <td>3</td>\n",
       "      <td>Saether, Mr. Simon Sivertsen</td>\n",
       "      <td>38.5</td>\n",
       "      <td>0</td>\n",
       "      <td>0</td>\n",
       "      <td>SOTON/O.Q. 3101262</td>\n",
       "      <td>7.2500</td>\n",
       "      <td>NaN</td>\n",
       "      <td>True</td>\n",
       "      <td>False</td>\n",
       "      <td>True</td>\n",
       "    </tr>\n",
       "    <tr>\n",
       "      <th>416</th>\n",
       "      <td>1308</td>\n",
       "      <td>3</td>\n",
       "      <td>Ware, Mr. Frederick</td>\n",
       "      <td>27.0</td>\n",
       "      <td>0</td>\n",
       "      <td>0</td>\n",
       "      <td>359309</td>\n",
       "      <td>8.0500</td>\n",
       "      <td>NaN</td>\n",
       "      <td>True</td>\n",
       "      <td>False</td>\n",
       "      <td>True</td>\n",
       "    </tr>\n",
       "    <tr>\n",
       "      <th>417</th>\n",
       "      <td>1309</td>\n",
       "      <td>3</td>\n",
       "      <td>Peter, Master. Michael J</td>\n",
       "      <td>27.0</td>\n",
       "      <td>1</td>\n",
       "      <td>1</td>\n",
       "      <td>2668</td>\n",
       "      <td>22.3583</td>\n",
       "      <td>NaN</td>\n",
       "      <td>True</td>\n",
       "      <td>False</td>\n",
       "      <td>False</td>\n",
       "    </tr>\n",
       "  </tbody>\n",
       "</table>\n",
       "<p>418 rows × 12 columns</p>\n",
       "</div>"
      ],
      "text/plain": [
       "     PassengerId  Pclass                                          Name   Age  \\\n",
       "0            892       3                              Kelly, Mr. James  34.5   \n",
       "1            893       3              Wilkes, Mrs. James (Ellen Needs)  47.0   \n",
       "2            894       2                     Myles, Mr. Thomas Francis  62.0   \n",
       "3            895       3                              Wirz, Mr. Albert  27.0   \n",
       "4            896       3  Hirvonen, Mrs. Alexander (Helga E Lindqvist)  22.0   \n",
       "..           ...     ...                                           ...   ...   \n",
       "413         1305       3                            Spector, Mr. Woolf  27.0   \n",
       "414         1306       1                  Oliva y Ocana, Dona. Fermina  39.0   \n",
       "415         1307       3                  Saether, Mr. Simon Sivertsen  38.5   \n",
       "416         1308       3                           Ware, Mr. Frederick  27.0   \n",
       "417         1309       3                      Peter, Master. Michael J  27.0   \n",
       "\n",
       "     SibSp  Parch              Ticket      Fare Cabin  Sex_male  Embarked_Q  \\\n",
       "0        0      0              330911    7.8292   NaN      True        True   \n",
       "1        1      0              363272    7.0000   NaN     False       False   \n",
       "2        0      0              240276    9.6875   NaN      True        True   \n",
       "3        0      0              315154    8.6625   NaN      True       False   \n",
       "4        1      1             3101298   12.2875   NaN     False       False   \n",
       "..     ...    ...                 ...       ...   ...       ...         ...   \n",
       "413      0      0           A.5. 3236    8.0500   NaN      True       False   \n",
       "414      0      0            PC 17758  108.9000  C105     False       False   \n",
       "415      0      0  SOTON/O.Q. 3101262    7.2500   NaN      True       False   \n",
       "416      0      0              359309    8.0500   NaN      True       False   \n",
       "417      1      1                2668   22.3583   NaN      True       False   \n",
       "\n",
       "     Embarked_S  \n",
       "0         False  \n",
       "1          True  \n",
       "2         False  \n",
       "3          True  \n",
       "4          True  \n",
       "..          ...  \n",
       "413        True  \n",
       "414       False  \n",
       "415        True  \n",
       "416        True  \n",
       "417       False  \n",
       "\n",
       "[418 rows x 12 columns]"
      ]
     },
     "execution_count": 24,
     "metadata": {},
     "output_type": "execute_result"
    }
   ],
   "source": [
    "test_data"
   ]
  },
  {
   "cell_type": "markdown",
   "metadata": {
    "id": "EmCooyVYDEuS"
   },
   "source": [
    "Ensuring the test data has the same columns as the train data"
   ]
  },
  {
   "cell_type": "code",
   "execution_count": 25,
   "metadata": {
    "id": "pFx8sT8AC3dq"
   },
   "outputs": [],
   "source": [
    "test_data = test_data.reindex(columns=train_data.columns.drop('Survived'), fill_value=0)"
   ]
  },
  {
   "cell_type": "markdown",
   "metadata": {
    "id": "K1JxRr9TECmx"
   },
   "source": [
    "# Task 3: Model Building"
   ]
  },
  {
   "cell_type": "markdown",
   "metadata": {
    "id": "71o3yiLVEwiD"
   },
   "source": [
    "Importing necessary libraries"
   ]
  },
  {
   "cell_type": "code",
   "execution_count": 26,
   "metadata": {
    "id": "XbKxfXazD06A"
   },
   "outputs": [],
   "source": [
    "from sklearn.model_selection import train_test_split\n",
    "from sklearn.linear_model import LogisticRegression"
   ]
  },
  {
   "cell_type": "markdown",
   "metadata": {
    "id": "pq04Q2PjPNLD"
   },
   "source": [
    "Defining features and target variable"
   ]
  },
  {
   "cell_type": "code",
   "execution_count": 27,
   "metadata": {
    "id": "7gD4q345E0WS"
   },
   "outputs": [],
   "source": [
    "X_train = train_data.drop(['Survived', 'Name', 'Ticket', 'Cabin'], axis=1)\n",
    "y_train = train_data['Survived']"
   ]
  },
  {
   "cell_type": "code",
   "execution_count": 28,
   "metadata": {
    "colab": {
     "base_uri": "https://localhost:8080/",
     "height": 423
    },
    "id": "0vXbqz1EPRUv",
    "outputId": "879bace8-923f-45b0-8f57-1816c1607493"
   },
   "outputs": [
    {
     "data": {
      "text/html": [
       "<div>\n",
       "<style scoped>\n",
       "    .dataframe tbody tr th:only-of-type {\n",
       "        vertical-align: middle;\n",
       "    }\n",
       "\n",
       "    .dataframe tbody tr th {\n",
       "        vertical-align: top;\n",
       "    }\n",
       "\n",
       "    .dataframe thead th {\n",
       "        text-align: right;\n",
       "    }\n",
       "</style>\n",
       "<table border=\"1\" class=\"dataframe\">\n",
       "  <thead>\n",
       "    <tr style=\"text-align: right;\">\n",
       "      <th></th>\n",
       "      <th>PassengerId</th>\n",
       "      <th>Pclass</th>\n",
       "      <th>Age</th>\n",
       "      <th>SibSp</th>\n",
       "      <th>Parch</th>\n",
       "      <th>Fare</th>\n",
       "      <th>Sex_male</th>\n",
       "      <th>Embarked_Q</th>\n",
       "      <th>Embarked_S</th>\n",
       "    </tr>\n",
       "  </thead>\n",
       "  <tbody>\n",
       "    <tr>\n",
       "      <th>0</th>\n",
       "      <td>1</td>\n",
       "      <td>3</td>\n",
       "      <td>22.0</td>\n",
       "      <td>1</td>\n",
       "      <td>0</td>\n",
       "      <td>7.2500</td>\n",
       "      <td>True</td>\n",
       "      <td>False</td>\n",
       "      <td>True</td>\n",
       "    </tr>\n",
       "    <tr>\n",
       "      <th>1</th>\n",
       "      <td>2</td>\n",
       "      <td>1</td>\n",
       "      <td>38.0</td>\n",
       "      <td>1</td>\n",
       "      <td>0</td>\n",
       "      <td>71.2833</td>\n",
       "      <td>False</td>\n",
       "      <td>False</td>\n",
       "      <td>False</td>\n",
       "    </tr>\n",
       "    <tr>\n",
       "      <th>2</th>\n",
       "      <td>3</td>\n",
       "      <td>3</td>\n",
       "      <td>26.0</td>\n",
       "      <td>0</td>\n",
       "      <td>0</td>\n",
       "      <td>7.9250</td>\n",
       "      <td>False</td>\n",
       "      <td>False</td>\n",
       "      <td>True</td>\n",
       "    </tr>\n",
       "    <tr>\n",
       "      <th>3</th>\n",
       "      <td>4</td>\n",
       "      <td>1</td>\n",
       "      <td>35.0</td>\n",
       "      <td>1</td>\n",
       "      <td>0</td>\n",
       "      <td>53.1000</td>\n",
       "      <td>False</td>\n",
       "      <td>False</td>\n",
       "      <td>True</td>\n",
       "    </tr>\n",
       "    <tr>\n",
       "      <th>4</th>\n",
       "      <td>5</td>\n",
       "      <td>3</td>\n",
       "      <td>35.0</td>\n",
       "      <td>0</td>\n",
       "      <td>0</td>\n",
       "      <td>8.0500</td>\n",
       "      <td>True</td>\n",
       "      <td>False</td>\n",
       "      <td>True</td>\n",
       "    </tr>\n",
       "    <tr>\n",
       "      <th>...</th>\n",
       "      <td>...</td>\n",
       "      <td>...</td>\n",
       "      <td>...</td>\n",
       "      <td>...</td>\n",
       "      <td>...</td>\n",
       "      <td>...</td>\n",
       "      <td>...</td>\n",
       "      <td>...</td>\n",
       "      <td>...</td>\n",
       "    </tr>\n",
       "    <tr>\n",
       "      <th>886</th>\n",
       "      <td>887</td>\n",
       "      <td>2</td>\n",
       "      <td>27.0</td>\n",
       "      <td>0</td>\n",
       "      <td>0</td>\n",
       "      <td>13.0000</td>\n",
       "      <td>True</td>\n",
       "      <td>False</td>\n",
       "      <td>True</td>\n",
       "    </tr>\n",
       "    <tr>\n",
       "      <th>887</th>\n",
       "      <td>888</td>\n",
       "      <td>1</td>\n",
       "      <td>19.0</td>\n",
       "      <td>0</td>\n",
       "      <td>0</td>\n",
       "      <td>30.0000</td>\n",
       "      <td>False</td>\n",
       "      <td>False</td>\n",
       "      <td>True</td>\n",
       "    </tr>\n",
       "    <tr>\n",
       "      <th>888</th>\n",
       "      <td>889</td>\n",
       "      <td>3</td>\n",
       "      <td>28.0</td>\n",
       "      <td>1</td>\n",
       "      <td>2</td>\n",
       "      <td>23.4500</td>\n",
       "      <td>False</td>\n",
       "      <td>False</td>\n",
       "      <td>True</td>\n",
       "    </tr>\n",
       "    <tr>\n",
       "      <th>889</th>\n",
       "      <td>890</td>\n",
       "      <td>1</td>\n",
       "      <td>26.0</td>\n",
       "      <td>0</td>\n",
       "      <td>0</td>\n",
       "      <td>30.0000</td>\n",
       "      <td>True</td>\n",
       "      <td>False</td>\n",
       "      <td>False</td>\n",
       "    </tr>\n",
       "    <tr>\n",
       "      <th>890</th>\n",
       "      <td>891</td>\n",
       "      <td>3</td>\n",
       "      <td>32.0</td>\n",
       "      <td>0</td>\n",
       "      <td>0</td>\n",
       "      <td>7.7500</td>\n",
       "      <td>True</td>\n",
       "      <td>True</td>\n",
       "      <td>False</td>\n",
       "    </tr>\n",
       "  </tbody>\n",
       "</table>\n",
       "<p>891 rows × 9 columns</p>\n",
       "</div>"
      ],
      "text/plain": [
       "     PassengerId  Pclass   Age  SibSp  Parch     Fare  Sex_male  Embarked_Q  \\\n",
       "0              1       3  22.0      1      0   7.2500      True       False   \n",
       "1              2       1  38.0      1      0  71.2833     False       False   \n",
       "2              3       3  26.0      0      0   7.9250     False       False   \n",
       "3              4       1  35.0      1      0  53.1000     False       False   \n",
       "4              5       3  35.0      0      0   8.0500      True       False   \n",
       "..           ...     ...   ...    ...    ...      ...       ...         ...   \n",
       "886          887       2  27.0      0      0  13.0000      True       False   \n",
       "887          888       1  19.0      0      0  30.0000     False       False   \n",
       "888          889       3  28.0      1      2  23.4500     False       False   \n",
       "889          890       1  26.0      0      0  30.0000      True       False   \n",
       "890          891       3  32.0      0      0   7.7500      True        True   \n",
       "\n",
       "     Embarked_S  \n",
       "0          True  \n",
       "1         False  \n",
       "2          True  \n",
       "3          True  \n",
       "4          True  \n",
       "..          ...  \n",
       "886        True  \n",
       "887        True  \n",
       "888        True  \n",
       "889       False  \n",
       "890       False  \n",
       "\n",
       "[891 rows x 9 columns]"
      ]
     },
     "execution_count": 28,
     "metadata": {},
     "output_type": "execute_result"
    }
   ],
   "source": [
    "X_train"
   ]
  },
  {
   "cell_type": "code",
   "execution_count": 29,
   "metadata": {
    "colab": {
     "base_uri": "https://localhost:8080/",
     "height": 458
    },
    "id": "aI7MhE53PUGY",
    "outputId": "ddd8183a-2c37-48bb-91cf-5b9838d4b4dd"
   },
   "outputs": [
    {
     "data": {
      "text/plain": [
       "0      0\n",
       "1      1\n",
       "2      1\n",
       "3      1\n",
       "4      0\n",
       "      ..\n",
       "886    0\n",
       "887    1\n",
       "888    0\n",
       "889    1\n",
       "890    0\n",
       "Name: Survived, Length: 891, dtype: int64"
      ]
     },
     "execution_count": 29,
     "metadata": {},
     "output_type": "execute_result"
    }
   ],
   "source": [
    "y_train"
   ]
  },
  {
   "cell_type": "markdown",
   "metadata": {
    "id": "sykuD4B0FaqZ"
   },
   "source": [
    "Splitting the training data into training and validation sets"
   ]
  },
  {
   "cell_type": "code",
   "execution_count": 30,
   "metadata": {
    "id": "ntE0tXTkFJIA"
   },
   "outputs": [],
   "source": [
    "X_train, X_val, y_train, y_val = train_test_split(X_train, y_train, test_size=0.2, random_state=42)"
   ]
  },
  {
   "cell_type": "code",
   "execution_count": 31,
   "metadata": {
    "colab": {
     "base_uri": "https://localhost:8080/",
     "height": 423
    },
    "id": "EObEhbGeFkLn",
    "outputId": "708f63d5-1642-4c43-dca8-ea0964224478"
   },
   "outputs": [
    {
     "data": {
      "text/html": [
       "<div>\n",
       "<style scoped>\n",
       "    .dataframe tbody tr th:only-of-type {\n",
       "        vertical-align: middle;\n",
       "    }\n",
       "\n",
       "    .dataframe tbody tr th {\n",
       "        vertical-align: top;\n",
       "    }\n",
       "\n",
       "    .dataframe thead th {\n",
       "        text-align: right;\n",
       "    }\n",
       "</style>\n",
       "<table border=\"1\" class=\"dataframe\">\n",
       "  <thead>\n",
       "    <tr style=\"text-align: right;\">\n",
       "      <th></th>\n",
       "      <th>PassengerId</th>\n",
       "      <th>Pclass</th>\n",
       "      <th>Age</th>\n",
       "      <th>SibSp</th>\n",
       "      <th>Parch</th>\n",
       "      <th>Fare</th>\n",
       "      <th>Sex_male</th>\n",
       "      <th>Embarked_Q</th>\n",
       "      <th>Embarked_S</th>\n",
       "    </tr>\n",
       "  </thead>\n",
       "  <tbody>\n",
       "    <tr>\n",
       "      <th>331</th>\n",
       "      <td>332</td>\n",
       "      <td>1</td>\n",
       "      <td>45.5</td>\n",
       "      <td>0</td>\n",
       "      <td>0</td>\n",
       "      <td>28.5000</td>\n",
       "      <td>True</td>\n",
       "      <td>False</td>\n",
       "      <td>True</td>\n",
       "    </tr>\n",
       "    <tr>\n",
       "      <th>733</th>\n",
       "      <td>734</td>\n",
       "      <td>2</td>\n",
       "      <td>23.0</td>\n",
       "      <td>0</td>\n",
       "      <td>0</td>\n",
       "      <td>13.0000</td>\n",
       "      <td>True</td>\n",
       "      <td>False</td>\n",
       "      <td>True</td>\n",
       "    </tr>\n",
       "    <tr>\n",
       "      <th>382</th>\n",
       "      <td>383</td>\n",
       "      <td>3</td>\n",
       "      <td>32.0</td>\n",
       "      <td>0</td>\n",
       "      <td>0</td>\n",
       "      <td>7.9250</td>\n",
       "      <td>True</td>\n",
       "      <td>False</td>\n",
       "      <td>True</td>\n",
       "    </tr>\n",
       "    <tr>\n",
       "      <th>704</th>\n",
       "      <td>705</td>\n",
       "      <td>3</td>\n",
       "      <td>26.0</td>\n",
       "      <td>1</td>\n",
       "      <td>0</td>\n",
       "      <td>7.8542</td>\n",
       "      <td>True</td>\n",
       "      <td>False</td>\n",
       "      <td>True</td>\n",
       "    </tr>\n",
       "    <tr>\n",
       "      <th>813</th>\n",
       "      <td>814</td>\n",
       "      <td>3</td>\n",
       "      <td>6.0</td>\n",
       "      <td>4</td>\n",
       "      <td>2</td>\n",
       "      <td>31.2750</td>\n",
       "      <td>False</td>\n",
       "      <td>False</td>\n",
       "      <td>True</td>\n",
       "    </tr>\n",
       "    <tr>\n",
       "      <th>...</th>\n",
       "      <td>...</td>\n",
       "      <td>...</td>\n",
       "      <td>...</td>\n",
       "      <td>...</td>\n",
       "      <td>...</td>\n",
       "      <td>...</td>\n",
       "      <td>...</td>\n",
       "      <td>...</td>\n",
       "      <td>...</td>\n",
       "    </tr>\n",
       "    <tr>\n",
       "      <th>106</th>\n",
       "      <td>107</td>\n",
       "      <td>3</td>\n",
       "      <td>21.0</td>\n",
       "      <td>0</td>\n",
       "      <td>0</td>\n",
       "      <td>7.6500</td>\n",
       "      <td>False</td>\n",
       "      <td>False</td>\n",
       "      <td>True</td>\n",
       "    </tr>\n",
       "    <tr>\n",
       "      <th>270</th>\n",
       "      <td>271</td>\n",
       "      <td>1</td>\n",
       "      <td>28.0</td>\n",
       "      <td>0</td>\n",
       "      <td>0</td>\n",
       "      <td>31.0000</td>\n",
       "      <td>True</td>\n",
       "      <td>False</td>\n",
       "      <td>True</td>\n",
       "    </tr>\n",
       "    <tr>\n",
       "      <th>860</th>\n",
       "      <td>861</td>\n",
       "      <td>3</td>\n",
       "      <td>41.0</td>\n",
       "      <td>2</td>\n",
       "      <td>0</td>\n",
       "      <td>14.1083</td>\n",
       "      <td>True</td>\n",
       "      <td>False</td>\n",
       "      <td>True</td>\n",
       "    </tr>\n",
       "    <tr>\n",
       "      <th>435</th>\n",
       "      <td>436</td>\n",
       "      <td>1</td>\n",
       "      <td>14.0</td>\n",
       "      <td>1</td>\n",
       "      <td>2</td>\n",
       "      <td>120.0000</td>\n",
       "      <td>False</td>\n",
       "      <td>False</td>\n",
       "      <td>True</td>\n",
       "    </tr>\n",
       "    <tr>\n",
       "      <th>102</th>\n",
       "      <td>103</td>\n",
       "      <td>1</td>\n",
       "      <td>21.0</td>\n",
       "      <td>0</td>\n",
       "      <td>1</td>\n",
       "      <td>77.2875</td>\n",
       "      <td>True</td>\n",
       "      <td>False</td>\n",
       "      <td>True</td>\n",
       "    </tr>\n",
       "  </tbody>\n",
       "</table>\n",
       "<p>712 rows × 9 columns</p>\n",
       "</div>"
      ],
      "text/plain": [
       "     PassengerId  Pclass   Age  SibSp  Parch      Fare  Sex_male  Embarked_Q  \\\n",
       "331          332       1  45.5      0      0   28.5000      True       False   \n",
       "733          734       2  23.0      0      0   13.0000      True       False   \n",
       "382          383       3  32.0      0      0    7.9250      True       False   \n",
       "704          705       3  26.0      1      0    7.8542      True       False   \n",
       "813          814       3   6.0      4      2   31.2750     False       False   \n",
       "..           ...     ...   ...    ...    ...       ...       ...         ...   \n",
       "106          107       3  21.0      0      0    7.6500     False       False   \n",
       "270          271       1  28.0      0      0   31.0000      True       False   \n",
       "860          861       3  41.0      2      0   14.1083      True       False   \n",
       "435          436       1  14.0      1      2  120.0000     False       False   \n",
       "102          103       1  21.0      0      1   77.2875      True       False   \n",
       "\n",
       "     Embarked_S  \n",
       "331        True  \n",
       "733        True  \n",
       "382        True  \n",
       "704        True  \n",
       "813        True  \n",
       "..          ...  \n",
       "106        True  \n",
       "270        True  \n",
       "860        True  \n",
       "435        True  \n",
       "102        True  \n",
       "\n",
       "[712 rows x 9 columns]"
      ]
     },
     "execution_count": 31,
     "metadata": {},
     "output_type": "execute_result"
    }
   ],
   "source": [
    "X_train"
   ]
  },
  {
   "cell_type": "code",
   "execution_count": 32,
   "metadata": {
    "colab": {
     "base_uri": "https://localhost:8080/",
     "height": 423
    },
    "id": "sSQcTRs6Flre",
    "outputId": "3f14e77a-5d1a-47d7-9244-e7f541eaf59b"
   },
   "outputs": [
    {
     "data": {
      "text/html": [
       "<div>\n",
       "<style scoped>\n",
       "    .dataframe tbody tr th:only-of-type {\n",
       "        vertical-align: middle;\n",
       "    }\n",
       "\n",
       "    .dataframe tbody tr th {\n",
       "        vertical-align: top;\n",
       "    }\n",
       "\n",
       "    .dataframe thead th {\n",
       "        text-align: right;\n",
       "    }\n",
       "</style>\n",
       "<table border=\"1\" class=\"dataframe\">\n",
       "  <thead>\n",
       "    <tr style=\"text-align: right;\">\n",
       "      <th></th>\n",
       "      <th>PassengerId</th>\n",
       "      <th>Pclass</th>\n",
       "      <th>Age</th>\n",
       "      <th>SibSp</th>\n",
       "      <th>Parch</th>\n",
       "      <th>Fare</th>\n",
       "      <th>Sex_male</th>\n",
       "      <th>Embarked_Q</th>\n",
       "      <th>Embarked_S</th>\n",
       "    </tr>\n",
       "  </thead>\n",
       "  <tbody>\n",
       "    <tr>\n",
       "      <th>709</th>\n",
       "      <td>710</td>\n",
       "      <td>3</td>\n",
       "      <td>28.0</td>\n",
       "      <td>1</td>\n",
       "      <td>1</td>\n",
       "      <td>15.2458</td>\n",
       "      <td>True</td>\n",
       "      <td>False</td>\n",
       "      <td>False</td>\n",
       "    </tr>\n",
       "    <tr>\n",
       "      <th>439</th>\n",
       "      <td>440</td>\n",
       "      <td>2</td>\n",
       "      <td>31.0</td>\n",
       "      <td>0</td>\n",
       "      <td>0</td>\n",
       "      <td>10.5000</td>\n",
       "      <td>True</td>\n",
       "      <td>False</td>\n",
       "      <td>True</td>\n",
       "    </tr>\n",
       "    <tr>\n",
       "      <th>840</th>\n",
       "      <td>841</td>\n",
       "      <td>3</td>\n",
       "      <td>20.0</td>\n",
       "      <td>0</td>\n",
       "      <td>0</td>\n",
       "      <td>7.9250</td>\n",
       "      <td>True</td>\n",
       "      <td>False</td>\n",
       "      <td>True</td>\n",
       "    </tr>\n",
       "    <tr>\n",
       "      <th>720</th>\n",
       "      <td>721</td>\n",
       "      <td>2</td>\n",
       "      <td>6.0</td>\n",
       "      <td>0</td>\n",
       "      <td>1</td>\n",
       "      <td>33.0000</td>\n",
       "      <td>False</td>\n",
       "      <td>False</td>\n",
       "      <td>True</td>\n",
       "    </tr>\n",
       "    <tr>\n",
       "      <th>39</th>\n",
       "      <td>40</td>\n",
       "      <td>3</td>\n",
       "      <td>14.0</td>\n",
       "      <td>1</td>\n",
       "      <td>0</td>\n",
       "      <td>11.2417</td>\n",
       "      <td>False</td>\n",
       "      <td>False</td>\n",
       "      <td>False</td>\n",
       "    </tr>\n",
       "    <tr>\n",
       "      <th>...</th>\n",
       "      <td>...</td>\n",
       "      <td>...</td>\n",
       "      <td>...</td>\n",
       "      <td>...</td>\n",
       "      <td>...</td>\n",
       "      <td>...</td>\n",
       "      <td>...</td>\n",
       "      <td>...</td>\n",
       "      <td>...</td>\n",
       "    </tr>\n",
       "    <tr>\n",
       "      <th>433</th>\n",
       "      <td>434</td>\n",
       "      <td>3</td>\n",
       "      <td>17.0</td>\n",
       "      <td>0</td>\n",
       "      <td>0</td>\n",
       "      <td>7.1250</td>\n",
       "      <td>True</td>\n",
       "      <td>False</td>\n",
       "      <td>True</td>\n",
       "    </tr>\n",
       "    <tr>\n",
       "      <th>773</th>\n",
       "      <td>774</td>\n",
       "      <td>3</td>\n",
       "      <td>28.0</td>\n",
       "      <td>0</td>\n",
       "      <td>0</td>\n",
       "      <td>7.2250</td>\n",
       "      <td>True</td>\n",
       "      <td>False</td>\n",
       "      <td>False</td>\n",
       "    </tr>\n",
       "    <tr>\n",
       "      <th>25</th>\n",
       "      <td>26</td>\n",
       "      <td>3</td>\n",
       "      <td>38.0</td>\n",
       "      <td>1</td>\n",
       "      <td>5</td>\n",
       "      <td>31.3875</td>\n",
       "      <td>False</td>\n",
       "      <td>False</td>\n",
       "      <td>True</td>\n",
       "    </tr>\n",
       "    <tr>\n",
       "      <th>84</th>\n",
       "      <td>85</td>\n",
       "      <td>2</td>\n",
       "      <td>17.0</td>\n",
       "      <td>0</td>\n",
       "      <td>0</td>\n",
       "      <td>10.5000</td>\n",
       "      <td>False</td>\n",
       "      <td>False</td>\n",
       "      <td>True</td>\n",
       "    </tr>\n",
       "    <tr>\n",
       "      <th>10</th>\n",
       "      <td>11</td>\n",
       "      <td>3</td>\n",
       "      <td>4.0</td>\n",
       "      <td>1</td>\n",
       "      <td>1</td>\n",
       "      <td>16.7000</td>\n",
       "      <td>False</td>\n",
       "      <td>False</td>\n",
       "      <td>True</td>\n",
       "    </tr>\n",
       "  </tbody>\n",
       "</table>\n",
       "<p>179 rows × 9 columns</p>\n",
       "</div>"
      ],
      "text/plain": [
       "     PassengerId  Pclass   Age  SibSp  Parch     Fare  Sex_male  Embarked_Q  \\\n",
       "709          710       3  28.0      1      1  15.2458      True       False   \n",
       "439          440       2  31.0      0      0  10.5000      True       False   \n",
       "840          841       3  20.0      0      0   7.9250      True       False   \n",
       "720          721       2   6.0      0      1  33.0000     False       False   \n",
       "39            40       3  14.0      1      0  11.2417     False       False   \n",
       "..           ...     ...   ...    ...    ...      ...       ...         ...   \n",
       "433          434       3  17.0      0      0   7.1250      True       False   \n",
       "773          774       3  28.0      0      0   7.2250      True       False   \n",
       "25            26       3  38.0      1      5  31.3875     False       False   \n",
       "84            85       2  17.0      0      0  10.5000     False       False   \n",
       "10            11       3   4.0      1      1  16.7000     False       False   \n",
       "\n",
       "     Embarked_S  \n",
       "709       False  \n",
       "439        True  \n",
       "840        True  \n",
       "720        True  \n",
       "39        False  \n",
       "..          ...  \n",
       "433        True  \n",
       "773       False  \n",
       "25         True  \n",
       "84         True  \n",
       "10         True  \n",
       "\n",
       "[179 rows x 9 columns]"
      ]
     },
     "execution_count": 32,
     "metadata": {},
     "output_type": "execute_result"
    }
   ],
   "source": [
    "X_val"
   ]
  },
  {
   "cell_type": "code",
   "execution_count": 33,
   "metadata": {
    "colab": {
     "base_uri": "https://localhost:8080/",
     "height": 458
    },
    "id": "vCwojj2aPlZt",
    "outputId": "efaf89fa-081e-4ece-c37b-b556362c678d"
   },
   "outputs": [
    {
     "data": {
      "text/plain": [
       "331    0\n",
       "733    0\n",
       "382    0\n",
       "704    0\n",
       "813    0\n",
       "      ..\n",
       "106    1\n",
       "270    0\n",
       "860    0\n",
       "435    1\n",
       "102    0\n",
       "Name: Survived, Length: 712, dtype: int64"
      ]
     },
     "execution_count": 33,
     "metadata": {},
     "output_type": "execute_result"
    }
   ],
   "source": [
    "y_train"
   ]
  },
  {
   "cell_type": "code",
   "execution_count": 34,
   "metadata": {
    "colab": {
     "base_uri": "https://localhost:8080/",
     "height": 458
    },
    "id": "WhKiz6yBPo0y",
    "outputId": "57702a14-81e8-48d1-e2d3-557b1e9f8983"
   },
   "outputs": [
    {
     "data": {
      "text/plain": [
       "709    1\n",
       "439    0\n",
       "840    0\n",
       "720    1\n",
       "39     1\n",
       "      ..\n",
       "433    0\n",
       "773    0\n",
       "25     1\n",
       "84     1\n",
       "10     1\n",
       "Name: Survived, Length: 179, dtype: int64"
      ]
     },
     "execution_count": 34,
     "metadata": {},
     "output_type": "execute_result"
    }
   ],
   "source": [
    "y_val"
   ]
  },
  {
   "cell_type": "markdown",
   "metadata": {
    "id": "W-3QPve4Fp3U"
   },
   "source": [
    "Initializing and train the logistic regression model"
   ]
  },
  {
   "cell_type": "code",
   "execution_count": 35,
   "metadata": {
    "colab": {
     "base_uri": "https://localhost:8080/",
     "height": 74
    },
    "id": "_-1AqGsTFx3G",
    "outputId": "a3b1c814-74c5-45e3-ed9e-20d33b0f293e"
   },
   "outputs": [
    {
     "data": {
      "text/html": [
       "<style>#sk-container-id-1 {color: black;}#sk-container-id-1 pre{padding: 0;}#sk-container-id-1 div.sk-toggleable {background-color: white;}#sk-container-id-1 label.sk-toggleable__label {cursor: pointer;display: block;width: 100%;margin-bottom: 0;padding: 0.3em;box-sizing: border-box;text-align: center;}#sk-container-id-1 label.sk-toggleable__label-arrow:before {content: \"▸\";float: left;margin-right: 0.25em;color: #696969;}#sk-container-id-1 label.sk-toggleable__label-arrow:hover:before {color: black;}#sk-container-id-1 div.sk-estimator:hover label.sk-toggleable__label-arrow:before {color: black;}#sk-container-id-1 div.sk-toggleable__content {max-height: 0;max-width: 0;overflow: hidden;text-align: left;background-color: #f0f8ff;}#sk-container-id-1 div.sk-toggleable__content pre {margin: 0.2em;color: black;border-radius: 0.25em;background-color: #f0f8ff;}#sk-container-id-1 input.sk-toggleable__control:checked~div.sk-toggleable__content {max-height: 200px;max-width: 100%;overflow: auto;}#sk-container-id-1 input.sk-toggleable__control:checked~label.sk-toggleable__label-arrow:before {content: \"▾\";}#sk-container-id-1 div.sk-estimator input.sk-toggleable__control:checked~label.sk-toggleable__label {background-color: #d4ebff;}#sk-container-id-1 div.sk-label input.sk-toggleable__control:checked~label.sk-toggleable__label {background-color: #d4ebff;}#sk-container-id-1 input.sk-hidden--visually {border: 0;clip: rect(1px 1px 1px 1px);clip: rect(1px, 1px, 1px, 1px);height: 1px;margin: -1px;overflow: hidden;padding: 0;position: absolute;width: 1px;}#sk-container-id-1 div.sk-estimator {font-family: monospace;background-color: #f0f8ff;border: 1px dotted black;border-radius: 0.25em;box-sizing: border-box;margin-bottom: 0.5em;}#sk-container-id-1 div.sk-estimator:hover {background-color: #d4ebff;}#sk-container-id-1 div.sk-parallel-item::after {content: \"\";width: 100%;border-bottom: 1px solid gray;flex-grow: 1;}#sk-container-id-1 div.sk-label:hover label.sk-toggleable__label {background-color: #d4ebff;}#sk-container-id-1 div.sk-serial::before {content: \"\";position: absolute;border-left: 1px solid gray;box-sizing: border-box;top: 0;bottom: 0;left: 50%;z-index: 0;}#sk-container-id-1 div.sk-serial {display: flex;flex-direction: column;align-items: center;background-color: white;padding-right: 0.2em;padding-left: 0.2em;position: relative;}#sk-container-id-1 div.sk-item {position: relative;z-index: 1;}#sk-container-id-1 div.sk-parallel {display: flex;align-items: stretch;justify-content: center;background-color: white;position: relative;}#sk-container-id-1 div.sk-item::before, #sk-container-id-1 div.sk-parallel-item::before {content: \"\";position: absolute;border-left: 1px solid gray;box-sizing: border-box;top: 0;bottom: 0;left: 50%;z-index: -1;}#sk-container-id-1 div.sk-parallel-item {display: flex;flex-direction: column;z-index: 1;position: relative;background-color: white;}#sk-container-id-1 div.sk-parallel-item:first-child::after {align-self: flex-end;width: 50%;}#sk-container-id-1 div.sk-parallel-item:last-child::after {align-self: flex-start;width: 50%;}#sk-container-id-1 div.sk-parallel-item:only-child::after {width: 0;}#sk-container-id-1 div.sk-dashed-wrapped {border: 1px dashed gray;margin: 0 0.4em 0.5em 0.4em;box-sizing: border-box;padding-bottom: 0.4em;background-color: white;}#sk-container-id-1 div.sk-label label {font-family: monospace;font-weight: bold;display: inline-block;line-height: 1.2em;}#sk-container-id-1 div.sk-label-container {text-align: center;}#sk-container-id-1 div.sk-container {/* jupyter's `normalize.less` sets `[hidden] { display: none; }` but bootstrap.min.css set `[hidden] { display: none !important; }` so we also need the `!important` here to be able to override the default hidden behavior on the sphinx rendered scikit-learn.org. See: https://github.com/scikit-learn/scikit-learn/issues/21755 */display: inline-block !important;position: relative;}#sk-container-id-1 div.sk-text-repr-fallback {display: none;}</style><div id=\"sk-container-id-1\" class=\"sk-top-container\"><div class=\"sk-text-repr-fallback\"><pre>LogisticRegression(max_iter=200)</pre><b>In a Jupyter environment, please rerun this cell to show the HTML representation or trust the notebook. <br />On GitHub, the HTML representation is unable to render, please try loading this page with nbviewer.org.</b></div><div class=\"sk-container\" hidden><div class=\"sk-item\"><div class=\"sk-estimator sk-toggleable\"><input class=\"sk-toggleable__control sk-hidden--visually\" id=\"sk-estimator-id-1\" type=\"checkbox\" checked><label for=\"sk-estimator-id-1\" class=\"sk-toggleable__label sk-toggleable__label-arrow\">LogisticRegression</label><div class=\"sk-toggleable__content\"><pre>LogisticRegression(max_iter=200)</pre></div></div></div></div></div>"
      ],
      "text/plain": [
       "LogisticRegression(max_iter=200)"
      ]
     },
     "execution_count": 35,
     "metadata": {},
     "output_type": "execute_result"
    }
   ],
   "source": [
    "import warnings\n",
    "warnings.filterwarnings('ignore')\n",
    "\n",
    "model = LogisticRegression(max_iter=200)\n",
    "model.fit(X_train, y_train)"
   ]
  },
  {
   "cell_type": "markdown",
   "metadata": {
    "id": "Szc3yC47QBV7"
   },
   "source": [
    "# Task 4: Model Evaluation"
   ]
  },
  {
   "cell_type": "markdown",
   "metadata": {
    "id": "_2-jiVQ0T7Ru"
   },
   "source": [
    "Evaluating the Model"
   ]
  },
  {
   "cell_type": "code",
   "execution_count": 36,
   "metadata": {
    "id": "n4fx_cv9YEx7"
   },
   "outputs": [],
   "source": [
    "from sklearn.metrics import accuracy_score, precision_score, recall_score, f1_score, roc_auc_score, roc_curve"
   ]
  },
  {
   "cell_type": "markdown",
   "metadata": {
    "id": "jYdAt7TEQcX9"
   },
   "source": [
    "Predicting on the validation set"
   ]
  },
  {
   "cell_type": "code",
   "execution_count": 37,
   "metadata": {
    "id": "SLRSjSaNYIH7"
   },
   "outputs": [],
   "source": [
    "y_pred = model.predict(X_val)\n",
    "y_pred_proba = model.predict_proba(X_val)[:, 1]"
   ]
  },
  {
   "cell_type": "code",
   "execution_count": 38,
   "metadata": {
    "colab": {
     "base_uri": "https://localhost:8080/"
    },
    "id": "AMNDVkAkQn9K",
    "outputId": "d6eaa402-4873-45b7-820f-3bb2afadaa62"
   },
   "outputs": [
    {
     "data": {
      "text/plain": [
       "array([0, 0, 0, 1, 1, 1, 1, 0, 1, 1, 0, 0, 0, 0, 0, 1, 0, 1, 0, 0, 0, 0,\n",
       "       1, 0, 0, 0, 0, 0, 0, 1, 0, 1, 1, 1, 0, 0, 0, 1, 1, 0, 0, 0, 0, 0,\n",
       "       1, 0, 0, 0, 0, 0, 1, 1, 0, 1, 0, 1, 0, 1, 1, 1, 0, 1, 1, 0, 0, 1,\n",
       "       0, 0, 0, 1, 1, 1, 1, 1, 0, 0, 1, 1, 1, 0, 0, 1, 1, 0, 0, 0, 1, 1,\n",
       "       0, 0, 0, 0, 0, 0, 0, 0, 0, 0, 1, 0, 0, 0, 1, 0, 0, 0, 1, 0, 0, 0,\n",
       "       1, 0, 1, 0, 1, 0, 0, 0, 1, 0, 0, 1, 1, 0, 0, 1, 1, 1, 1, 0, 1, 0,\n",
       "       0, 1, 0, 1, 1, 0, 0, 1, 0, 1, 0, 0, 1, 1, 0, 0, 1, 0, 0, 0, 0, 1,\n",
       "       0, 0, 0, 1, 1, 1, 0, 0, 0, 1, 0, 0, 0, 1, 0, 0, 1, 1, 0, 1, 0, 0,\n",
       "       0, 1, 1], dtype=int64)"
      ]
     },
     "execution_count": 38,
     "metadata": {},
     "output_type": "execute_result"
    }
   ],
   "source": [
    "y_pred"
   ]
  },
  {
   "cell_type": "code",
   "execution_count": 39,
   "metadata": {
    "colab": {
     "base_uri": "https://localhost:8080/"
    },
    "id": "rTdpNMAKQn5X",
    "outputId": "d49cc38d-4b15-4402-c24a-74e2d31a94e4"
   },
   "outputs": [
    {
     "data": {
      "text/plain": [
       "array([0.1095411 , 0.22260505, 0.1509278 , 0.89463486, 0.67822456,\n",
       "       0.92883576, 0.69767051, 0.08582456, 0.76133067, 0.91223313,\n",
       "       0.3171733 , 0.07551463, 0.38414458, 0.12414199, 0.19284964,\n",
       "       0.9462711 , 0.32606878, 0.72646833, 0.27971331, 0.31248224,\n",
       "       0.1125865 , 0.41726938, 0.58281178, 0.14349142, 0.11208761,\n",
       "       0.07655884, 0.40998475, 0.24036662, 0.06847083, 0.58598003,\n",
       "       0.15674011, 0.62620335, 0.57634403, 0.59209119, 0.12788627,\n",
       "       0.12060877, 0.42608515, 0.68904978, 0.94530633, 0.11838683,\n",
       "       0.18408679, 0.08042483, 0.1225593 , 0.17498561, 0.53195019,\n",
       "       0.07758808, 0.11878653, 0.11829722, 0.10906751, 0.3424369 ,\n",
       "       0.68823611, 0.83624129, 0.03836994, 0.55704159, 0.05393829,\n",
       "       0.93679403, 0.19352463, 0.92489261, 0.75936697, 0.73205299,\n",
       "       0.12680394, 0.85604812, 0.76247684, 0.43377798, 0.14346126,\n",
       "       0.66437   , 0.28426094, 0.10303944, 0.13499731, 0.87288307,\n",
       "       0.74359918, 0.94355053, 0.59967094, 0.90979904, 0.13938555,\n",
       "       0.07092413, 0.72047326, 0.94200697, 0.74936594, 0.44817785,\n",
       "       0.04592521, 0.77607614, 0.90174849, 0.17429306, 0.31452053,\n",
       "       0.25901429, 0.92440742, 0.93755394, 0.40665107, 0.09939521,\n",
       "       0.13430812, 0.43245527, 0.25766192, 0.15309054, 0.09352257,\n",
       "       0.1006537 , 0.29493609, 0.06432878, 0.75829652, 0.10489897,\n",
       "       0.23194266, 0.09284881, 0.94445842, 0.08171144, 0.1137872 ,\n",
       "       0.08879866, 0.69473208, 0.33500733, 0.09590839, 0.42950338,\n",
       "       0.90834983, 0.12047942, 0.94156568, 0.40880001, 0.60187722,\n",
       "       0.15345389, 0.22276261, 0.24233506, 0.76807441, 0.35518017,\n",
       "       0.15807124, 0.93498008, 0.76082864, 0.33850512, 0.12997309,\n",
       "       0.50277161, 0.87373007, 0.57466308, 0.63374784, 0.13072363,\n",
       "       0.7026687 , 0.08695047, 0.23639247, 0.78452347, 0.34972015,\n",
       "       0.73862956, 0.94862079, 0.0962065 , 0.08416992, 0.58292147,\n",
       "       0.13815327, 0.70182626, 0.23287063, 0.16535991, 0.55371182,\n",
       "       0.70758946, 0.21357485, 0.07849884, 0.93162293, 0.07684448,\n",
       "       0.14748291, 0.12150789, 0.15083497, 0.62550684, 0.09359213,\n",
       "       0.11294561, 0.12867797, 0.6791066 , 0.7236538 , 0.6155559 ,\n",
       "       0.14957806, 0.46755207, 0.20796681, 0.92905062, 0.13460727,\n",
       "       0.2446177 , 0.26373863, 0.90105442, 0.12849935, 0.08550608,\n",
       "       0.53855151, 0.81563875, 0.41464353, 0.75281038, 0.14169886,\n",
       "       0.15664247, 0.30587503, 0.83347149, 0.65030111])"
      ]
     },
     "execution_count": 39,
     "metadata": {},
     "output_type": "execute_result"
    }
   ],
   "source": [
    "y_pred_proba"
   ]
  },
  {
   "cell_type": "markdown",
   "metadata": {
    "id": "dv8lWsabQvkp"
   },
   "source": [
    "Computing evaluation metrics"
   ]
  },
  {
   "cell_type": "code",
   "execution_count": 40,
   "metadata": {
    "id": "HRbdYZtoQn1X"
   },
   "outputs": [],
   "source": [
    "accuracy = accuracy_score(y_val, y_pred)\n",
    "precision = precision_score(y_val, y_pred)\n",
    "recall = recall_score(y_val, y_pred)\n",
    "f1 = f1_score(y_val, y_pred)\n",
    "roc_auc = roc_auc_score(y_val, y_pred_proba)"
   ]
  },
  {
   "cell_type": "code",
   "execution_count": 41,
   "metadata": {
    "colab": {
     "base_uri": "https://localhost:8080/"
    },
    "id": "GhgGF8_ZQnrm",
    "outputId": "ee4afbb4-865a-497b-a2d1-ae8db14b895b"
   },
   "outputs": [
    {
     "name": "stdout",
     "output_type": "stream",
     "text": [
      "Accuracy: 0.8045\n",
      "Precision: 0.7746\n",
      "Recall: 0.7432\n",
      "F1 Score: 0.7586\n",
      "ROC AUC Score: 0.8757\n"
     ]
    }
   ],
   "source": [
    "print(f'Accuracy: {accuracy:.4f}')\n",
    "print(f'Precision: {precision:.4f}')\n",
    "print(f'Recall: {recall:.4f}')\n",
    "print(f'F1 Score: {f1:.4f}')\n",
    "print(f'ROC AUC Score: {roc_auc:.4f}')"
   ]
  },
  {
   "cell_type": "markdown",
   "metadata": {
    "id": "F7U1P9ScQ39V"
   },
   "source": [
    "Visualizing the ROC curve"
   ]
  },
  {
   "cell_type": "code",
   "execution_count": 42,
   "metadata": {
    "colab": {
     "base_uri": "https://localhost:8080/",
     "height": 564
    },
    "id": "QCta01jJQnnw",
    "outputId": "f6a7e270-dbb2-4953-d09d-83c553086cbe"
   },
   "outputs": [
    {
     "data": {
      "image/png": "[encoded data removed]",
      "text/plain": [
       "<Figure size 800x600 with 1 Axes>"
      ]
     },
     "metadata": {},
     "output_type": "display_data"
    }
   ],
   "source": [
    "fpr, tpr, _ = roc_curve(y_val, y_pred_proba)\n",
    "\n",
    "plt.figure(figsize=(8, 6))\n",
    "plt.plot(fpr, tpr, label=f'ROC Curve (AUC = {roc_auc:.2f})')\n",
    "plt.plot([0, 1], [0, 1], 'k--', label='Random Chance')\n",
    "plt.xlabel('False Positive Rate')\n",
    "plt.ylabel('True Positive Rate')\n",
    "plt.title('ROC Curve')\n",
    "plt.legend()\n",
    "plt.show()"
   ]
  },
  {
   "cell_type": "markdown",
   "metadata": {
    "id": "1M-8h-UWfCKm"
   },
   "source": [
    "# Task 5: Interpretation"
   ]
  },
  {
   "cell_type": "markdown",
   "metadata": {
    "id": "xCCv5BSkRBWr"
   },
   "source": [
    "Extracting model coefficients"
   ]
  },
  {
   "cell_type": "code",
   "execution_count": 43,
   "metadata": {
    "id": "qXCgksw8e-_e"
   },
   "outputs": [],
   "source": [
    "feature_importance = pd.DataFrame({'Feature': X_train.columns, 'Coefficient': model.coef_[0]})\n",
    "feature_importance['Importance'] = feature_importance['Coefficient'].abs()\n",
    "feature_importance = feature_importance.sort_values(by='Importance', ascending=False)"
   ]
  },
  {
   "cell_type": "code",
   "execution_count": 44,
   "metadata": {
    "colab": {
     "base_uri": "https://localhost:8080/",
     "height": 331
    },
    "id": "6AoO9T6iREYH",
    "outputId": "ea218e02-c527-4434-f977-6feaa2e5f06a"
   },
   "outputs": [
    {
     "data": {
      "text/html": [
       "<div>\n",
       "<style scoped>\n",
       "    .dataframe tbody tr th:only-of-type {\n",
       "        vertical-align: middle;\n",
       "    }\n",
       "\n",
       "    .dataframe tbody tr th {\n",
       "        vertical-align: top;\n",
       "    }\n",
       "\n",
       "    .dataframe thead th {\n",
       "        text-align: right;\n",
       "    }\n",
       "</style>\n",
       "<table border=\"1\" class=\"dataframe\">\n",
       "  <thead>\n",
       "    <tr style=\"text-align: right;\">\n",
       "      <th></th>\n",
       "      <th>Feature</th>\n",
       "      <th>Coefficient</th>\n",
       "      <th>Importance</th>\n",
       "    </tr>\n",
       "  </thead>\n",
       "  <tbody>\n",
       "    <tr>\n",
       "      <th>6</th>\n",
       "      <td>Sex_male</td>\n",
       "      <td>-2.581720</td>\n",
       "      <td>2.581720</td>\n",
       "    </tr>\n",
       "    <tr>\n",
       "      <th>1</th>\n",
       "      <td>Pclass</td>\n",
       "      <td>-0.959450</td>\n",
       "      <td>0.959450</td>\n",
       "    </tr>\n",
       "    <tr>\n",
       "      <th>8</th>\n",
       "      <td>Embarked_S</td>\n",
       "      <td>-0.312694</td>\n",
       "      <td>0.312694</td>\n",
       "    </tr>\n",
       "    <tr>\n",
       "      <th>3</th>\n",
       "      <td>SibSp</td>\n",
       "      <td>-0.292280</td>\n",
       "      <td>0.292280</td>\n",
       "    </tr>\n",
       "    <tr>\n",
       "      <th>7</th>\n",
       "      <td>Embarked_Q</td>\n",
       "      <td>0.124530</td>\n",
       "      <td>0.124530</td>\n",
       "    </tr>\n",
       "    <tr>\n",
       "      <th>4</th>\n",
       "      <td>Parch</td>\n",
       "      <td>-0.116283</td>\n",
       "      <td>0.116283</td>\n",
       "    </tr>\n",
       "    <tr>\n",
       "      <th>2</th>\n",
       "      <td>Age</td>\n",
       "      <td>-0.030028</td>\n",
       "      <td>0.030028</td>\n",
       "    </tr>\n",
       "    <tr>\n",
       "      <th>5</th>\n",
       "      <td>Fare</td>\n",
       "      <td>0.002742</td>\n",
       "      <td>0.002742</td>\n",
       "    </tr>\n",
       "    <tr>\n",
       "      <th>0</th>\n",
       "      <td>PassengerId</td>\n",
       "      <td>0.000398</td>\n",
       "      <td>0.000398</td>\n",
       "    </tr>\n",
       "  </tbody>\n",
       "</table>\n",
       "</div>"
      ],
      "text/plain": [
       "       Feature  Coefficient  Importance\n",
       "6     Sex_male    -2.581720    2.581720\n",
       "1       Pclass    -0.959450    0.959450\n",
       "8   Embarked_S    -0.312694    0.312694\n",
       "3        SibSp    -0.292280    0.292280\n",
       "7   Embarked_Q     0.124530    0.124530\n",
       "4        Parch    -0.116283    0.116283\n",
       "2          Age    -0.030028    0.030028\n",
       "5         Fare     0.002742    0.002742\n",
       "0  PassengerId     0.000398    0.000398"
      ]
     },
     "execution_count": 44,
     "metadata": {},
     "output_type": "execute_result"
    }
   ],
   "source": [
    "feature_importance"
   ]
  },
  {
   "cell_type": "markdown",
   "metadata": {
    "id": "m3ubCROvRO9a"
   },
   "source": [
    "Interpretation"
   ]
  },
  {
   "cell_type": "code",
   "execution_count": 45,
   "metadata": {
    "colab": {
     "base_uri": "https://localhost:8080/"
    },
    "id": "lI-mdCSRRKwx",
    "outputId": "bb5176d4-5423-485e-e8f4-5b6b57120569"
   },
   "outputs": [
    {
     "name": "stdout",
     "output_type": "stream",
     "text": [
      "Feature: PassengerId, Coefficient: 0.0004\n",
      "Feature: Pclass, Coefficient: -0.9595\n",
      "Feature: Age, Coefficient: -0.0300\n",
      "Feature: SibSp, Coefficient: -0.2923\n",
      "Feature: Parch, Coefficient: -0.1163\n",
      "Feature: Fare, Coefficient: 0.0027\n",
      "Feature: Sex_male, Coefficient: -2.5817\n",
      "Feature: Embarked_Q, Coefficient: 0.1245\n",
      "Feature: Embarked_S, Coefficient: -0.3127\n"
     ]
    }
   ],
   "source": [
    "for feature, coef in zip(X_train.columns, model.coef_[0]):\n",
    "    print(f\"Feature: {feature}, Coefficient: {coef:.4f}\")"
   ]
  },
  {
   "cell_type": "markdown",
   "metadata": {
    "id": "jEMpubrxRVSS"
   },
   "source": [
    "**Discuss the significance of features in predicting the target variable.**\n",
    "\n",
    "The coefficients represent the log-odds of survival for a one-unit increase in the predictor variable, holding all other variables constant.\n",
    "\n",
    "A positive coefficient increases the probability of survival, while a negative coefficient decreases it."
   ]
  },
  {
   "cell_type": "markdown",
   "metadata": {
    "id": "T15qV7wSRfXq"
   },
   "source": [
    "# Task 6: Deployment with Streamlit"
   ]
  },
  {
   "cell_type": "code",
   "execution_count": 46,
   "metadata": {
    "colab": {
     "base_uri": "https://localhost:8080/"
    },
    "id": "IfWgEL4CR6fW",
    "outputId": "d25bff4e-6c6e-4dd7-e926-db93f569e690"
   },
   "outputs": [
    {
     "name": "stdout",
     "output_type": "stream",
     "text": [
      "Collecting streamlit\n",
      "  Obtaining dependency information for streamlit from https://files.pythonhosted.org/packages/ef/e1/f9c479f9dbe0bb702ea5ca6608f10e91a708b438f7fb4572a2642718c6e3/streamlit-1.39.0-py2.py3-none-any.whl.metadata\n",
      "  Downloading streamlit-1.39.0-py2.py3-none-any.whl.metadata (8.5 kB)\n",
      "Collecting altair<6,>=4.0 (from streamlit)\n",
      "  Obtaining dependency information for altair<6,>=4.0 from https://files.pythonhosted.org/packages/9b/52/4a86a4fa1cc2aae79137cc9510b7080c3e5aede2310d14fae5486feec7f7/altair-5.4.1-py3-none-any.whl.metadata\n",
      "  Downloading altair-5.4.1-py3-none-any.whl.metadata (9.4 kB)\n",
      "Collecting blinker<2,>=1.0.0 (from streamlit)\n",
      "  Obtaining dependency information for blinker<2,>=1.0.0 from https://files.pythonhosted.org/packages/bb/2a/10164ed1f31196a2f7f3799368a821765c62851ead0e630ab52b8e14b4d0/blinker-1.8.2-py3-none-any.whl.metadata\n",
      "  Downloading blinker-1.8.2-py3-none-any.whl.metadata (1.6 kB)\n",
      "Collecting cachetools<6,>=4.0 (from streamlit)\n",
      "  Obtaining dependency information for cachetools<6,>=4.0 from https://files.pythonhosted.org/packages/a4/07/14f8ad37f2d12a5ce41206c21820d8cb6561b728e51fad4530dff0552a67/cachetools-5.5.0-py3-none-any.whl.metadata\n",
      "  Downloading cachetools-5.5.0-py3-none-any.whl.metadata (5.3 kB)\n",
      "Requirement already satisfied: click<9,>=7.0 in c:\\users\\pavan\\anaconda3\\lib\\site-packages (from streamlit) (8.0.4)\n",
      "Requirement already satisfied: numpy<3,>=1.20 in c:\\users\\pavan\\anaconda3\\lib\\site-packages (from streamlit) (1.24.3)\n",
      "Requirement already satisfied: packaging<25,>=20 in c:\\users\\pavan\\anaconda3\\lib\\site-packages (from streamlit) (23.1)\n",
      "Requirement already satisfied: pandas<3,>=1.4.0 in c:\\users\\pavan\\anaconda3\\lib\\site-packages (from streamlit) (2.0.3)\n",
      "Requirement already satisfied: pillow<11,>=7.1.0 in c:\\users\\pavan\\anaconda3\\lib\\site-packages (from streamlit) (9.4.0)\n",
      "Collecting protobuf<6,>=3.20 (from streamlit)\n",
      "  Obtaining dependency information for protobuf<6,>=3.20 from https://files.pythonhosted.org/packages/7d/46/3fdf7462160135aee6a530f1ec66665b5b4132fa2e1002ab971bc6ec2589/protobuf-5.28.2-cp310-abi3-win_amd64.whl.metadata\n",
      "  Downloading protobuf-5.28.2-cp310-abi3-win_amd64.whl.metadata (592 bytes)\n",
      "Requirement already satisfied: pyarrow>=7.0 in c:\\users\\pavan\\anaconda3\\lib\\site-packages (from streamlit) (11.0.0)\n",
      "Requirement already satisfied: requests<3,>=2.27 in c:\\users\\pavan\\anaconda3\\lib\\site-packages (from streamlit) (2.31.0)\n",
      "Collecting rich<14,>=10.14.0 (from streamlit)\n",
      "  Obtaining dependency information for rich<14,>=10.14.0 from https://files.pythonhosted.org/packages/67/91/5474b84e505a6ccc295b2d322d90ff6aa0746745717839ee0c5fb4fdcceb/rich-13.9.2-py3-none-any.whl.metadata\n",
      "  Downloading rich-13.9.2-py3-none-any.whl.metadata (18 kB)\n",
      "Requirement already satisfied: tenacity<10,>=8.1.0 in c:\\users\\pavan\\anaconda3\\lib\\site-packages (from streamlit) (8.2.2)\n",
      "Requirement already satisfied: toml<2,>=0.10.1 in c:\\users\\pavan\\anaconda3\\lib\\site-packages (from streamlit) (0.10.2)\n",
      "Requirement already satisfied: typing-extensions<5,>=4.3.0 in c:\\users\\pavan\\anaconda3\\lib\\site-packages (from streamlit) (4.7.1)\n",
      "Collecting gitpython!=3.1.19,<4,>=3.0.7 (from streamlit)\n",
      "  Obtaining dependency information for gitpython!=3.1.19,<4,>=3.0.7 from https://files.pythonhosted.org/packages/e9/bd/cc3a402a6439c15c3d4294333e13042b915bbeab54edc457c723931fed3f/GitPython-3.1.43-py3-none-any.whl.metadata\n",
      "  Downloading GitPython-3.1.43-py3-none-any.whl.metadata (13 kB)\n",
      "Collecting pydeck<1,>=0.8.0b4 (from streamlit)\n",
      "  Obtaining dependency information for pydeck<1,>=0.8.0b4 from https://files.pythonhosted.org/packages/ab/4c/b888e6cf58bd9db9c93f40d1c6be8283ff49d88919231afe93a6bcf61626/pydeck-0.9.1-py2.py3-none-any.whl.metadata\n",
      "  Downloading pydeck-0.9.1-py2.py3-none-any.whl.metadata (4.1 kB)\n",
      "Requirement already satisfied: tornado<7,>=6.0.3 in c:\\users\\pavan\\anaconda3\\lib\\site-packages (from streamlit) (6.3.2)\n",
      "Requirement already satisfied: watchdog<6,>=2.1.5 in c:\\users\\pavan\\anaconda3\\lib\\site-packages (from streamlit) (2.1.6)\n",
      "Requirement already satisfied: jinja2 in c:\\users\\pavan\\anaconda3\\lib\\site-packages (from altair<6,>=4.0->streamlit) (3.1.2)\n",
      "Requirement already satisfied: jsonschema>=3.0 in c:\\users\\pavan\\anaconda3\\lib\\site-packages (from altair<6,>=4.0->streamlit) (4.17.3)\n",
      "Collecting narwhals>=1.5.2 (from altair<6,>=4.0->streamlit)\n",
      "  Obtaining dependency information for narwhals>=1.5.2 from https://files.pythonhosted.org/packages/c4/61/2440cb9ac78164c10d1c1b17a4bbc2ff44e77e42266a3d6876ad2676b807/narwhals-1.9.4-py3-none-any.whl.metadata\n",
      "  Downloading narwhals-1.9.4-py3-none-any.whl.metadata (7.0 kB)\n",
      "Collecting typing-extensions<5,>=4.3.0 (from streamlit)\n",
      "  Obtaining dependency information for typing-extensions<5,>=4.3.0 from https://files.pythonhosted.org/packages/26/9f/ad63fc0248c5379346306f8668cda6e2e2e9c95e01216d2b8ffd9ff037d0/typing_extensions-4.12.2-py3-none-any.whl.metadata\n",
      "  Downloading typing_extensions-4.12.2-py3-none-any.whl.metadata (3.0 kB)\n",
      "Requirement already satisfied: colorama in c:\\users\\pavan\\anaconda3\\lib\\site-packages (from click<9,>=7.0->streamlit) (0.4.6)\n",
      "Collecting gitdb<5,>=4.0.1 (from gitpython!=3.1.19,<4,>=3.0.7->streamlit)\n",
      "  Obtaining dependency information for gitdb<5,>=4.0.1 from https://files.pythonhosted.org/packages/fd/5b/8f0c4a5bb9fd491c277c21eff7ccae71b47d43c4446c9d0c6cff2fe8c2c4/gitdb-4.0.11-py3-none-any.whl.metadata\n",
      "  Downloading gitdb-4.0.11-py3-none-any.whl.metadata (1.2 kB)\n",
      "Requirement already satisfied: python-dateutil>=2.8.2 in c:\\users\\pavan\\anaconda3\\lib\\site-packages (from pandas<3,>=1.4.0->streamlit) (2.8.2)\n",
      "Requirement already satisfied: pytz>=2020.1 in c:\\users\\pavan\\anaconda3\\lib\\site-packages (from pandas<3,>=1.4.0->streamlit) (2023.3.post1)\n",
      "Requirement already satisfied: tzdata>=2022.1 in c:\\users\\pavan\\anaconda3\\lib\\site-packages (from pandas<3,>=1.4.0->streamlit) (2023.3)\n",
      "Requirement already satisfied: charset-normalizer<4,>=2 in c:\\users\\pavan\\anaconda3\\lib\\site-packages (from requests<3,>=2.27->streamlit) (2.0.4)\n",
      "Requirement already satisfied: idna<4,>=2.5 in c:\\users\\pavan\\anaconda3\\lib\\site-packages (from requests<3,>=2.27->streamlit) (3.4)\n",
      "Requirement already satisfied: urllib3<3,>=1.21.1 in c:\\users\\pavan\\anaconda3\\lib\\site-packages (from requests<3,>=2.27->streamlit) (1.26.16)\n",
      "Requirement already satisfied: certifi>=2017.4.17 in c:\\users\\pavan\\anaconda3\\lib\\site-packages (from requests<3,>=2.27->streamlit) (2023.7.22)\n",
      "Requirement already satisfied: markdown-it-py>=2.2.0 in c:\\users\\pavan\\anaconda3\\lib\\site-packages (from rich<14,>=10.14.0->streamlit) (2.2.0)\n",
      "Requirement already satisfied: pygments<3.0.0,>=2.13.0 in c:\\users\\pavan\\anaconda3\\lib\\site-packages (from rich<14,>=10.14.0->streamlit) (2.15.1)\n",
      "Collecting smmap<6,>=3.0.1 (from gitdb<5,>=4.0.1->gitpython!=3.1.19,<4,>=3.0.7->streamlit)\n",
      "  Obtaining dependency information for smmap<6,>=3.0.1 from https://files.pythonhosted.org/packages/a7/a5/10f97f73544edcdef54409f1d839f6049a0d79df68adbc1ceb24d1aaca42/smmap-5.0.1-py3-none-any.whl.metadata\n",
      "  Downloading smmap-5.0.1-py3-none-any.whl.metadata (4.3 kB)\n",
      "Requirement already satisfied: MarkupSafe>=2.0 in c:\\users\\pavan\\anaconda3\\lib\\site-packages (from jinja2->altair<6,>=4.0->streamlit) (2.1.1)\n",
      "Requirement already satisfied: attrs>=17.4.0 in c:\\users\\pavan\\anaconda3\\lib\\site-packages (from jsonschema>=3.0->altair<6,>=4.0->streamlit) (22.1.0)\n",
      "Requirement already satisfied: pyrsistent!=0.17.0,!=0.17.1,!=0.17.2,>=0.14.0 in c:\\users\\pavan\\anaconda3\\lib\\site-packages (from jsonschema>=3.0->altair<6,>=4.0->streamlit) (0.18.0)\n",
      "Requirement already satisfied: mdurl~=0.1 in c:\\users\\pavan\\anaconda3\\lib\\site-packages (from markdown-it-py>=2.2.0->rich<14,>=10.14.0->streamlit) (0.1.0)\n",
      "Requirement already satisfied: six>=1.5 in c:\\users\\pavan\\anaconda3\\lib\\site-packages (from python-dateutil>=2.8.2->pandas<3,>=1.4.0->streamlit) (1.16.0)\n",
      "Downloading streamlit-1.39.0-py2.py3-none-any.whl (8.7 MB)\n",
      "   ---------------------------------------- 0.0/8.7 MB ? eta -:--:--\n",
      "    --------------------------------------- 0.2/8.7 MB 3.5 MB/s eta 0:00:03\n",
      "   - -------------------------------------- 0.3/8.7 MB 3.2 MB/s eta 0:00:03\n",
      "   - -------------------------------------- 0.3/8.7 MB 2.5 MB/s eta 0:00:04\n",
      "   - -------------------------------------- 0.4/8.7 MB 2.2 MB/s eta 0:00:04\n",
      "   - -------------------------------------- 0.4/8.7 MB 2.2 MB/s eta 0:00:04\n",
      "   - -------------------------------------- 0.4/8.7 MB 2.2 MB/s eta 0:00:04\n",
      "   - -------------------------------------- 0.4/8.7 MB 1.3 MB/s eta 0:00:07\n",
      "   -- ------------------------------------- 0.6/8.7 MB 1.7 MB/s eta 0:00:05\n",
      "   --- ------------------------------------ 0.7/8.7 MB 1.7 MB/s eta 0:00:05\n",
      "   --- ------------------------------------ 0.7/8.7 MB 1.6 MB/s eta 0:00:05\n",
      "   --- ------------------------------------ 0.8/8.7 MB 1.6 MB/s eta 0:00:05\n",
      "   --- ------------------------------------ 0.8/8.7 MB 1.6 MB/s eta 0:00:05\n",
      "   --- ------------------------------------ 0.8/8.7 MB 1.6 MB/s eta 0:00:05\n",
      "   --- ------------------------------------ 0.8/8.7 MB 1.3 MB/s eta 0:00:07\n",
      "   ---- ----------------------------------- 1.0/8.7 MB 1.5 MB/s eta 0:00:06\n",
      "   ----- ---------------------------------- 1.1/8.7 MB 1.5 MB/s eta 0:00:06\n",
      "   ----- ---------------------------------- 1.1/8.7 MB 1.5 MB/s eta 0:00:06\n",
      "   ----- ---------------------------------- 1.1/8.7 MB 1.5 MB/s eta 0:00:06\n",
      "   ----- ---------------------------------- 1.3/8.7 MB 1.4 MB/s eta 0:00:06\n",
      "   ------ --------------------------------- 1.3/8.7 MB 1.4 MB/s eta 0:00:06\n",
      "   ------ --------------------------------- 1.4/8.7 MB 1.5 MB/s eta 0:00:06\n",
      "   ------ --------------------------------- 1.5/8.7 MB 1.4 MB/s eta 0:00:06\n",
      "   ------ --------------------------------- 1.5/8.7 MB 1.4 MB/s eta 0:00:06\n",
      "   ------- -------------------------------- 1.6/8.7 MB 1.4 MB/s eta 0:00:06\n",
      "   ------- -------------------------------- 1.6/8.7 MB 1.4 MB/s eta 0:00:05\n",
      "   ------- -------------------------------- 1.7/8.7 MB 1.4 MB/s eta 0:00:05\n",
      "   -------- ------------------------------- 1.8/8.7 MB 1.4 MB/s eta 0:00:05\n",
      "   -------- ------------------------------- 1.8/8.7 MB 1.4 MB/s eta 0:00:05\n",
      "   -------- ------------------------------- 1.9/8.7 MB 1.4 MB/s eta 0:00:05\n",
      "   -------- ------------------------------- 1.9/8.7 MB 1.4 MB/s eta 0:00:05\n",
      "   --------- ------------------------------ 2.0/8.7 MB 1.4 MB/s eta 0:00:05\n",
      "   --------- ------------------------------ 2.0/8.7 MB 1.4 MB/s eta 0:00:05\n",
      "   --------- ------------------------------ 2.1/8.7 MB 1.4 MB/s eta 0:00:05\n",
      "   --------- ------------------------------ 2.2/8.7 MB 1.4 MB/s eta 0:00:05\n",
      "   ---------- ----------------------------- 2.2/8.7 MB 1.4 MB/s eta 0:00:05\n",
      "   ---------- ----------------------------- 2.3/8.7 MB 1.4 MB/s eta 0:00:05\n",
      "   ---------- ----------------------------- 2.3/8.7 MB 1.4 MB/s eta 0:00:05\n",
      "   ----------- ---------------------------- 2.4/8.7 MB 1.4 MB/s eta 0:00:05\n",
      "   ----------- ---------------------------- 2.5/8.7 MB 1.4 MB/s eta 0:00:05\n",
      "   ----------- ---------------------------- 2.5/8.7 MB 1.4 MB/s eta 0:00:05\n",
      "   ----------- ---------------------------- 2.6/8.7 MB 1.4 MB/s eta 0:00:05\n",
      "   ------------ --------------------------- 2.7/8.7 MB 1.4 MB/s eta 0:00:05\n",
      "   ------------ --------------------------- 2.7/8.7 MB 1.4 MB/s eta 0:00:05\n",
      "   ------------ --------------------------- 2.8/8.7 MB 1.4 MB/s eta 0:00:05\n",
      "   ------------ --------------------------- 2.8/8.7 MB 1.4 MB/s eta 0:00:05\n",
      "   ------------- -------------------------- 2.9/8.7 MB 1.4 MB/s eta 0:00:05\n",
      "   ------------- -------------------------- 2.9/8.7 MB 1.4 MB/s eta 0:00:05\n",
      "   ------------- -------------------------- 3.0/8.7 MB 1.4 MB/s eta 0:00:05\n",
      "   -------------- ------------------------- 3.1/8.7 MB 1.4 MB/s eta 0:00:05\n",
      "   -------------- ------------------------- 3.1/8.7 MB 1.4 MB/s eta 0:00:05\n",
      "   -------------- ------------------------- 3.2/8.7 MB 1.4 MB/s eta 0:00:05\n",
      "   -------------- ------------------------- 3.2/8.7 MB 1.4 MB/s eta 0:00:05\n",
      "   -------------- ------------------------- 3.3/8.7 MB 1.3 MB/s eta 0:00:05\n",
      "   --------------- ------------------------ 3.4/8.7 MB 1.4 MB/s eta 0:00:04\n",
      "   --------------- ------------------------ 3.4/8.7 MB 1.4 MB/s eta 0:00:04\n",
      "   --------------- ------------------------ 3.5/8.7 MB 1.4 MB/s eta 0:00:04\n",
      "   ---------------- ----------------------- 3.5/8.7 MB 1.3 MB/s eta 0:00:04\n",
      "   ---------------- ----------------------- 3.6/8.7 MB 1.3 MB/s eta 0:00:04\n",
      "   ---------------- ----------------------- 3.7/8.7 MB 1.4 MB/s eta 0:00:04\n",
      "   ----------------- ---------------------- 3.7/8.7 MB 1.4 MB/s eta 0:00:04\n",
      "   ----------------- ---------------------- 3.8/8.7 MB 1.3 MB/s eta 0:00:04\n",
      "   ----------------- ---------------------- 3.8/8.7 MB 1.3 MB/s eta 0:00:04\n",
      "   ----------------- ---------------------- 3.9/8.7 MB 1.3 MB/s eta 0:00:04\n",
      "   ------------------ --------------------- 4.0/8.7 MB 1.3 MB/s eta 0:00:04\n",
      "   ------------------ --------------------- 4.0/8.7 MB 1.3 MB/s eta 0:00:04\n",
      "   ------------------ --------------------- 4.1/8.7 MB 1.3 MB/s eta 0:00:04\n",
      "   ------------------ --------------------- 4.1/8.7 MB 1.3 MB/s eta 0:00:04\n",
      "   ------------------- -------------------- 4.2/8.7 MB 1.3 MB/s eta 0:00:04\n",
      "   ------------------- -------------------- 4.2/8.7 MB 1.3 MB/s eta 0:00:04\n",
      "   ------------------- -------------------- 4.3/8.7 MB 1.3 MB/s eta 0:00:04\n",
      "   ------------------- -------------------- 4.4/8.7 MB 1.3 MB/s eta 0:00:04\n",
      "   -------------------- ------------------- 4.4/8.7 MB 1.3 MB/s eta 0:00:04\n",
      "   -------------------- ------------------- 4.5/8.7 MB 1.3 MB/s eta 0:00:04\n",
      "   -------------------- ------------------- 4.6/8.7 MB 1.3 MB/s eta 0:00:04\n",
      "   --------------------- ------------------ 4.6/8.7 MB 1.3 MB/s eta 0:00:04\n",
      "   --------------------- ------------------ 4.6/8.7 MB 1.3 MB/s eta 0:00:04\n",
      "   --------------------- ------------------ 4.6/8.7 MB 1.3 MB/s eta 0:00:04\n",
      "   --------------------- ------------------ 4.8/8.7 MB 1.3 MB/s eta 0:00:03\n",
      "   ---------------------- ----------------- 4.9/8.7 MB 1.3 MB/s eta 0:00:03\n",
      "   ---------------------- ----------------- 4.9/8.7 MB 1.3 MB/s eta 0:00:03\n",
      "   ---------------------- ----------------- 5.0/8.7 MB 1.3 MB/s eta 0:00:03\n",
      "   ----------------------- ---------------- 5.0/8.7 MB 1.3 MB/s eta 0:00:03\n",
      "   ----------------------- ---------------- 5.1/8.7 MB 1.3 MB/s eta 0:00:03\n",
      "   ----------------------- ---------------- 5.2/8.7 MB 1.3 MB/s eta 0:00:03\n",
      "   ----------------------- ---------------- 5.2/8.7 MB 1.3 MB/s eta 0:00:03\n",
      "   ------------------------ --------------- 5.3/8.7 MB 1.3 MB/s eta 0:00:03\n",
      "   ------------------------ --------------- 5.3/8.7 MB 1.3 MB/s eta 0:00:03\n",
      "   ------------------------ --------------- 5.4/8.7 MB 1.3 MB/s eta 0:00:03\n",
      "   ------------------------ --------------- 5.4/8.7 MB 1.3 MB/s eta 0:00:03\n",
      "   ------------------------- -------------- 5.5/8.7 MB 1.3 MB/s eta 0:00:03\n",
      "   ------------------------- -------------- 5.6/8.7 MB 1.3 MB/s eta 0:00:03\n",
      "   ------------------------- -------------- 5.6/8.7 MB 1.3 MB/s eta 0:00:03\n",
      "   -------------------------- ------------- 5.7/8.7 MB 1.3 MB/s eta 0:00:03\n",
      "   -------------------------- ------------- 5.8/8.7 MB 1.3 MB/s eta 0:00:03\n",
      "   -------------------------- ------------- 5.8/8.7 MB 1.3 MB/s eta 0:00:03\n",
      "   -------------------------- ------------- 5.9/8.7 MB 1.3 MB/s eta 0:00:03\n",
      "   --------------------------- ------------ 5.9/8.7 MB 1.3 MB/s eta 0:00:03\n",
      "   --------------------------- ------------ 6.0/8.7 MB 1.3 MB/s eta 0:00:03\n",
      "   --------------------------- ------------ 6.1/8.7 MB 1.3 MB/s eta 0:00:03\n",
      "   ---------------------------- ----------- 6.1/8.7 MB 1.3 MB/s eta 0:00:02\n",
      "   ---------------------------- ----------- 6.2/8.7 MB 1.3 MB/s eta 0:00:02\n",
      "   ---------------------------- ----------- 6.2/8.7 MB 1.3 MB/s eta 0:00:02\n",
      "   ---------------------------- ----------- 6.3/8.7 MB 1.3 MB/s eta 0:00:02\n",
      "   ----------------------------- ---------- 6.4/8.7 MB 1.3 MB/s eta 0:00:02\n",
      "   ----------------------------- ---------- 6.4/8.7 MB 1.3 MB/s eta 0:00:02\n",
      "   ----------------------------- ---------- 6.5/8.7 MB 1.3 MB/s eta 0:00:02\n",
      "   ----------------------------- ---------- 6.5/8.7 MB 1.3 MB/s eta 0:00:02\n",
      "   ------------------------------ --------- 6.6/8.7 MB 1.3 MB/s eta 0:00:02\n",
      "   ------------------------------ --------- 6.7/8.7 MB 1.3 MB/s eta 0:00:02\n",
      "   ------------------------------ --------- 6.7/8.7 MB 1.3 MB/s eta 0:00:02\n",
      "   ------------------------------- -------- 6.8/8.7 MB 1.3 MB/s eta 0:00:02\n",
      "   ------------------------------- -------- 6.9/8.7 MB 1.3 MB/s eta 0:00:02\n",
      "   ------------------------------- -------- 6.9/8.7 MB 1.3 MB/s eta 0:00:02\n",
      "   ------------------------------- -------- 7.0/8.7 MB 1.3 MB/s eta 0:00:02\n",
      "   -------------------------------- ------- 7.0/8.7 MB 1.3 MB/s eta 0:00:02\n",
      "   -------------------------------- ------- 7.1/8.7 MB 1.3 MB/s eta 0:00:02\n",
      "   -------------------------------- ------- 7.2/8.7 MB 1.3 MB/s eta 0:00:02\n",
      "   --------------------------------- ------ 7.2/8.7 MB 1.3 MB/s eta 0:00:02\n",
      "   --------------------------------- ------ 7.3/8.7 MB 1.3 MB/s eta 0:00:02\n",
      "   --------------------------------- ------ 7.4/8.7 MB 1.3 MB/s eta 0:00:02\n",
      "   --------------------------------- ------ 7.4/8.7 MB 1.3 MB/s eta 0:00:02\n",
      "   ---------------------------------- ----- 7.5/8.7 MB 1.3 MB/s eta 0:00:01\n",
      "   ---------------------------------- ----- 7.5/8.7 MB 1.3 MB/s eta 0:00:01\n",
      "   ---------------------------------- ----- 7.6/8.7 MB 1.3 MB/s eta 0:00:01\n",
      "   ----------------------------------- ---- 7.7/8.7 MB 1.3 MB/s eta 0:00:01\n",
      "   ----------------------------------- ---- 7.7/8.7 MB 1.3 MB/s eta 0:00:01\n",
      "   ----------------------------------- ---- 7.8/8.7 MB 1.3 MB/s eta 0:00:01\n",
      "   ----------------------------------- ---- 7.8/8.7 MB 1.3 MB/s eta 0:00:01\n",
      "   ------------------------------------ --- 7.9/8.7 MB 1.3 MB/s eta 0:00:01\n",
      "   ------------------------------------ --- 8.0/8.7 MB 1.3 MB/s eta 0:00:01\n",
      "   ------------------------------------ --- 8.0/8.7 MB 1.3 MB/s eta 0:00:01\n",
      "   ------------------------------------ --- 8.1/8.7 MB 1.3 MB/s eta 0:00:01\n",
      "   ------------------------------------- -- 8.2/8.7 MB 1.3 MB/s eta 0:00:01\n",
      "   ------------------------------------- -- 8.2/8.7 MB 1.3 MB/s eta 0:00:01\n",
      "   ------------------------------------- -- 8.3/8.7 MB 1.3 MB/s eta 0:00:01\n",
      "   -------------------------------------- - 8.3/8.7 MB 1.3 MB/s eta 0:00:01\n",
      "   -------------------------------------- - 8.4/8.7 MB 1.3 MB/s eta 0:00:01\n",
      "   -------------------------------------- - 8.4/8.7 MB 1.3 MB/s eta 0:00:01\n",
      "   -------------------------------------- - 8.5/8.7 MB 1.3 MB/s eta 0:00:01\n",
      "   ---------------------------------------  8.6/8.7 MB 1.3 MB/s eta 0:00:01\n",
      "   ---------------------------------------  8.6/8.7 MB 1.3 MB/s eta 0:00:01\n",
      "   ---------------------------------------  8.7/8.7 MB 1.3 MB/s eta 0:00:01\n",
      "   ---------------------------------------  8.7/8.7 MB 1.3 MB/s eta 0:00:01\n",
      "   ---------------------------------------  8.7/8.7 MB 1.3 MB/s eta 0:00:01\n",
      "   ---------------------------------------- 8.7/8.7 MB 1.3 MB/s eta 0:00:00\n",
      "Downloading altair-5.4.1-py3-none-any.whl (658 kB)\n",
      "   ---------------------------------------- 0.0/658.1 kB ? eta -:--:--\n",
      "    --------------------------------------- 10.2/658.1 kB ? eta -:--:--\n",
      "   -------------- ------------------------- 235.5/658.1 kB 2.9 MB/s eta 0:00:01\n",
      "   ------------------ --------------------- 297.0/658.1 kB 2.0 MB/s eta 0:00:01\n",
      "   --------------------- ------------------ 358.4/658.1 kB 2.0 MB/s eta 0:00:01\n",
      "   ----------------------- ---------------- 389.1/658.1 kB 1.9 MB/s eta 0:00:01\n",
      "   ----------------------- ---------------- 389.1/658.1 kB 1.9 MB/s eta 0:00:01\n",
      "   ----------------------- ---------------- 389.1/658.1 kB 1.9 MB/s eta 0:00:01\n",
      "   ------------------------------------ --- 604.2/658.1 kB 1.6 MB/s eta 0:00:01\n",
      "   ---------------------------------------  655.4/658.1 kB 1.6 MB/s eta 0:00:01\n",
      "   ---------------------------------------- 658.1/658.1 kB 1.5 MB/s eta 0:00:00\n",
      "Downloading blinker-1.8.2-py3-none-any.whl (9.5 kB)\n",
      "Downloading cachetools-5.5.0-py3-none-any.whl (9.5 kB)\n",
      "Downloading GitPython-3.1.43-py3-none-any.whl (207 kB)\n",
      "   ---------------------------------------- 0.0/207.3 kB ? eta -:--:--\n",
      "   ----------------------------- ---------- 153.6/207.3 kB 4.6 MB/s eta 0:00:01\n",
      "   ---------------------------------------- 207.3/207.3 kB 3.1 MB/s eta 0:00:00\n",
      "Downloading protobuf-5.28.2-cp310-abi3-win_amd64.whl (431 kB)\n",
      "   ---------------------------------------- 0.0/431.5 kB ? eta -:--:--\n",
      "   ----------- ---------------------------- 122.9/431.5 kB 2.4 MB/s eta 0:00:01\n",
      "   ---------------- ----------------------- 174.1/431.5 kB 1.7 MB/s eta 0:00:01\n",
      "   --------------------- ------------------ 235.5/431.5 kB 1.6 MB/s eta 0:00:01\n",
      "   -------------------------- ------------- 286.7/431.5 kB 1.6 MB/s eta 0:00:01\n",
      "   -------------------------------- ------- 348.2/431.5 kB 1.5 MB/s eta 0:00:01\n",
      "   ------------------------------------- -- 409.6/431.5 kB 1.5 MB/s eta 0:00:01\n",
      "   ---------------------------------------- 431.5/431.5 kB 1.4 MB/s eta 0:00:00\n",
      "Downloading pydeck-0.9.1-py2.py3-none-any.whl (6.9 MB)\n",
      "   ---------------------------------------- 0.0/6.9 MB ? eta -:--:--\n",
      "    --------------------------------------- 0.1/6.9 MB 3.5 MB/s eta 0:00:02\n",
      "   - -------------------------------------- 0.2/6.9 MB 2.4 MB/s eta 0:00:03\n",
      "   - -------------------------------------- 0.2/6.9 MB 2.0 MB/s eta 0:00:04\n",
      "   - -------------------------------------- 0.3/6.9 MB 1.8 MB/s eta 0:00:04\n",
      "   -- ------------------------------------- 0.4/6.9 MB 1.7 MB/s eta 0:00:04\n",
      "   -- ------------------------------------- 0.4/6.9 MB 1.6 MB/s eta 0:00:04\n",
      "   -- ------------------------------------- 0.5/6.9 MB 1.5 MB/s eta 0:00:05\n",
      "   --- ------------------------------------ 0.5/6.9 MB 1.5 MB/s eta 0:00:05\n",
      "   --- ------------------------------------ 0.6/6.9 MB 1.5 MB/s eta 0:00:05\n",
      "   --- ------------------------------------ 0.7/6.9 MB 1.5 MB/s eta 0:00:05\n",
      "   ---- ----------------------------------- 0.7/6.9 MB 1.5 MB/s eta 0:00:05\n",
      "   ---- ----------------------------------- 0.8/6.9 MB 1.5 MB/s eta 0:00:05\n",
      "   ---- ----------------------------------- 0.8/6.9 MB 1.4 MB/s eta 0:00:05\n",
      "   ----- ---------------------------------- 0.9/6.9 MB 1.4 MB/s eta 0:00:05\n",
      "   ----- ---------------------------------- 1.0/6.9 MB 1.4 MB/s eta 0:00:05\n",
      "   ----- ---------------------------------- 1.0/6.9 MB 1.4 MB/s eta 0:00:05\n",
      "   ------ --------------------------------- 1.1/6.9 MB 1.4 MB/s eta 0:00:05\n",
      "   ------ --------------------------------- 1.1/6.9 MB 1.4 MB/s eta 0:00:05\n",
      "   ------ --------------------------------- 1.2/6.9 MB 1.4 MB/s eta 0:00:05\n",
      "   ------ --------------------------------- 1.2/6.9 MB 1.4 MB/s eta 0:00:05\n",
      "   ------- -------------------------------- 1.3/6.9 MB 1.4 MB/s eta 0:00:05\n",
      "   -------- ------------------------------- 1.4/6.9 MB 1.4 MB/s eta 0:00:05\n",
      "   -------- ------------------------------- 1.4/6.9 MB 1.4 MB/s eta 0:00:04\n",
      "   -------- ------------------------------- 1.5/6.9 MB 1.4 MB/s eta 0:00:04\n",
      "   --------- ------------------------------ 1.6/6.9 MB 1.4 MB/s eta 0:00:04\n",
      "   --------- ------------------------------ 1.6/6.9 MB 1.4 MB/s eta 0:00:04\n",
      "   --------- ------------------------------ 1.7/6.9 MB 1.4 MB/s eta 0:00:04\n",
      "   ---------- ----------------------------- 1.7/6.9 MB 1.4 MB/s eta 0:00:04\n",
      "   ---------- ----------------------------- 1.8/6.9 MB 1.3 MB/s eta 0:00:04\n",
      "   ---------- ----------------------------- 1.9/6.9 MB 1.4 MB/s eta 0:00:04\n",
      "   ----------- ---------------------------- 1.9/6.9 MB 1.4 MB/s eta 0:00:04\n",
      "   ----------- ---------------------------- 2.0/6.9 MB 1.3 MB/s eta 0:00:04\n",
      "   ----------- ---------------------------- 2.0/6.9 MB 1.3 MB/s eta 0:00:04\n",
      "   ------------ --------------------------- 2.1/6.9 MB 1.3 MB/s eta 0:00:04\n",
      "   ------------ --------------------------- 2.2/6.9 MB 1.3 MB/s eta 0:00:04\n",
      "   ------------ --------------------------- 2.2/6.9 MB 1.3 MB/s eta 0:00:04\n",
      "   ------------- -------------------------- 2.3/6.9 MB 1.3 MB/s eta 0:00:04\n",
      "   ------------- -------------------------- 2.3/6.9 MB 1.3 MB/s eta 0:00:04\n",
      "   ------------- -------------------------- 2.4/6.9 MB 1.3 MB/s eta 0:00:04\n",
      "   -------------- ------------------------- 2.5/6.9 MB 1.3 MB/s eta 0:00:04\n",
      "   -------------- ------------------------- 2.5/6.9 MB 1.3 MB/s eta 0:00:04\n",
      "   -------------- ------------------------- 2.6/6.9 MB 1.3 MB/s eta 0:00:04\n",
      "   --------------- ------------------------ 2.6/6.9 MB 1.3 MB/s eta 0:00:04\n",
      "   --------------- ------------------------ 2.6/6.9 MB 1.3 MB/s eta 0:00:04\n",
      "   --------------- ------------------------ 2.7/6.9 MB 1.3 MB/s eta 0:00:04\n",
      "   ---------------- ----------------------- 2.8/6.9 MB 1.3 MB/s eta 0:00:04\n",
      "   ---------------- ----------------------- 2.9/6.9 MB 1.3 MB/s eta 0:00:04\n",
      "   ---------------- ----------------------- 2.9/6.9 MB 1.3 MB/s eta 0:00:03\n",
      "   ----------------- ---------------------- 3.0/6.9 MB 1.3 MB/s eta 0:00:03\n",
      "   ----------------- ---------------------- 3.0/6.9 MB 1.3 MB/s eta 0:00:03\n",
      "   ------------------ --------------------- 3.1/6.9 MB 1.3 MB/s eta 0:00:03\n",
      "   ------------------ --------------------- 3.2/6.9 MB 1.3 MB/s eta 0:00:03\n",
      "   ------------------ --------------------- 3.2/6.9 MB 1.3 MB/s eta 0:00:03\n",
      "   ------------------- -------------------- 3.3/6.9 MB 1.3 MB/s eta 0:00:03\n",
      "   ------------------- -------------------- 3.3/6.9 MB 1.3 MB/s eta 0:00:03\n",
      "   ------------------- -------------------- 3.4/6.9 MB 1.3 MB/s eta 0:00:03\n",
      "   -------------------- ------------------- 3.5/6.9 MB 1.3 MB/s eta 0:00:03\n",
      "   -------------------- ------------------- 3.5/6.9 MB 1.3 MB/s eta 0:00:03\n",
      "   -------------------- ------------------- 3.6/6.9 MB 1.3 MB/s eta 0:00:03\n",
      "   --------------------- ------------------ 3.6/6.9 MB 1.3 MB/s eta 0:00:03\n",
      "   --------------------- ------------------ 3.7/6.9 MB 1.3 MB/s eta 0:00:03\n",
      "   --------------------- ------------------ 3.8/6.9 MB 1.3 MB/s eta 0:00:03\n",
      "   ---------------------- ----------------- 3.8/6.9 MB 1.3 MB/s eta 0:00:03\n",
      "   ---------------------- ----------------- 3.9/6.9 MB 1.3 MB/s eta 0:00:03\n",
      "   ---------------------- ----------------- 3.9/6.9 MB 1.3 MB/s eta 0:00:03\n",
      "   ----------------------- ---------------- 4.0/6.9 MB 1.3 MB/s eta 0:00:03\n",
      "   ----------------------- ---------------- 4.0/6.9 MB 1.3 MB/s eta 0:00:03\n",
      "   ----------------------- ---------------- 4.0/6.9 MB 1.3 MB/s eta 0:00:03\n",
      "   ------------------------ --------------- 4.2/6.9 MB 1.3 MB/s eta 0:00:03\n",
      "   ------------------------ --------------- 4.2/6.9 MB 1.3 MB/s eta 0:00:03\n",
      "   ------------------------ --------------- 4.3/6.9 MB 1.3 MB/s eta 0:00:02\n",
      "   ------------------------- -------------- 4.4/6.9 MB 1.3 MB/s eta 0:00:02\n",
      "   ------------------------- -------------- 4.4/6.9 MB 1.3 MB/s eta 0:00:02\n",
      "   ------------------------- -------------- 4.5/6.9 MB 1.3 MB/s eta 0:00:02\n",
      "   -------------------------- ------------- 4.5/6.9 MB 1.3 MB/s eta 0:00:02\n",
      "   -------------------------- ------------- 4.6/6.9 MB 1.3 MB/s eta 0:00:02\n",
      "   --------------------------- ------------ 4.7/6.9 MB 1.3 MB/s eta 0:00:02\n",
      "   --------------------------- ------------ 4.7/6.9 MB 1.3 MB/s eta 0:00:02\n",
      "   --------------------------- ------------ 4.8/6.9 MB 1.3 MB/s eta 0:00:02\n",
      "   --------------------------- ------------ 4.8/6.9 MB 1.3 MB/s eta 0:00:02\n",
      "   ---------------------------- ----------- 4.9/6.9 MB 1.3 MB/s eta 0:00:02\n",
      "   ---------------------------- ----------- 5.0/6.9 MB 1.3 MB/s eta 0:00:02\n",
      "   ----------------------------- ---------- 5.0/6.9 MB 1.3 MB/s eta 0:00:02\n",
      "   ----------------------------- ---------- 5.0/6.9 MB 1.3 MB/s eta 0:00:02\n",
      "   ----------------------------- ---------- 5.1/6.9 MB 1.3 MB/s eta 0:00:02\n",
      "   ------------------------------ --------- 5.2/6.9 MB 1.3 MB/s eta 0:00:02\n",
      "   ------------------------------ --------- 5.3/6.9 MB 1.3 MB/s eta 0:00:02\n",
      "   ------------------------------ --------- 5.3/6.9 MB 1.3 MB/s eta 0:00:02\n",
      "   ------------------------------- -------- 5.4/6.9 MB 1.3 MB/s eta 0:00:02\n",
      "   ------------------------------- -------- 5.4/6.9 MB 1.3 MB/s eta 0:00:02\n",
      "   ------------------------------- -------- 5.5/6.9 MB 1.3 MB/s eta 0:00:02\n",
      "   -------------------------------- ------- 5.5/6.9 MB 1.3 MB/s eta 0:00:02\n",
      "   -------------------------------- ------- 5.6/6.9 MB 1.3 MB/s eta 0:00:01\n",
      "   -------------------------------- ------- 5.7/6.9 MB 1.3 MB/s eta 0:00:01\n",
      "   --------------------------------- ------ 5.7/6.9 MB 1.3 MB/s eta 0:00:01\n",
      "   --------------------------------- ------ 5.8/6.9 MB 1.3 MB/s eta 0:00:01\n",
      "   --------------------------------- ------ 5.8/6.9 MB 1.3 MB/s eta 0:00:01\n",
      "   ---------------------------------- ----- 5.9/6.9 MB 1.3 MB/s eta 0:00:01\n",
      "   ---------------------------------- ----- 5.9/6.9 MB 1.3 MB/s eta 0:00:01\n",
      "   ---------------------------------- ----- 6.0/6.9 MB 1.3 MB/s eta 0:00:01\n",
      "   ----------------------------------- ---- 6.1/6.9 MB 1.3 MB/s eta 0:00:01\n",
      "   ----------------------------------- ---- 6.2/6.9 MB 1.3 MB/s eta 0:00:01\n",
      "   ----------------------------------- ---- 6.2/6.9 MB 1.3 MB/s eta 0:00:01\n",
      "   ------------------------------------ --- 6.3/6.9 MB 1.3 MB/s eta 0:00:01\n",
      "   ------------------------------------ --- 6.3/6.9 MB 1.3 MB/s eta 0:00:01\n",
      "   ------------------------------------- -- 6.4/6.9 MB 1.3 MB/s eta 0:00:01\n",
      "   ------------------------------------- -- 6.5/6.9 MB 1.3 MB/s eta 0:00:01\n",
      "   ------------------------------------- -- 6.5/6.9 MB 1.3 MB/s eta 0:00:01\n",
      "   -------------------------------------- - 6.6/6.9 MB 1.3 MB/s eta 0:00:01\n",
      "   -------------------------------------- - 6.6/6.9 MB 1.3 MB/s eta 0:00:01\n",
      "   -------------------------------------- - 6.7/6.9 MB 1.3 MB/s eta 0:00:01\n",
      "   ---------------------------------------  6.7/6.9 MB 1.3 MB/s eta 0:00:01\n",
      "   ---------------------------------------  6.8/6.9 MB 1.3 MB/s eta 0:00:01\n",
      "   ---------------------------------------  6.9/6.9 MB 1.3 MB/s eta 0:00:01\n",
      "   ---------------------------------------  6.9/6.9 MB 1.3 MB/s eta 0:00:01\n",
      "   ---------------------------------------- 6.9/6.9 MB 1.3 MB/s eta 0:00:00\n",
      "Downloading rich-13.9.2-py3-none-any.whl (242 kB)\n",
      "   ---------------------------------------- 0.0/242.1 kB ? eta -:--:--\n",
      "   -------------------- ------------------- 122.9/242.1 kB 2.4 MB/s eta 0:00:01\n",
      "   -------------------------------------- - 235.5/242.1 kB 2.9 MB/s eta 0:00:01\n",
      "   ---------------------------------------- 242.1/242.1 kB 2.1 MB/s eta 0:00:00\n",
      "Downloading typing_extensions-4.12.2-py3-none-any.whl (37 kB)\n",
      "Downloading gitdb-4.0.11-py3-none-any.whl (62 kB)\n",
      "   ---------------------------------------- 0.0/62.7 kB ? eta -:--:--\n",
      "   ---------------------------------------- 62.7/62.7 kB 3.5 MB/s eta 0:00:00\n",
      "Downloading narwhals-1.9.4-py3-none-any.whl (188 kB)\n",
      "   ---------------------------------------- 0.0/188.9 kB ? eta -:--:--\n",
      "   ------------------- -------------------- 92.2/188.9 kB ? eta -:--:--\n",
      "   ---------------------------------------- 188.9/188.9 kB 2.8 MB/s eta 0:00:00\n",
      "Downloading smmap-5.0.1-py3-none-any.whl (24 kB)\n",
      "Installing collected packages: typing-extensions, smmap, protobuf, narwhals, cachetools, blinker, rich, pydeck, gitdb, altair, gitpython, streamlit\n",
      "  Attempting uninstall: typing-extensions\n",
      "    Found existing installation: typing_extensions 4.7.1\n",
      "    Uninstalling typing_extensions-4.7.1:\n",
      "      Successfully uninstalled typing_extensions-4.7.1\n",
      "Successfully installed altair-5.4.1 blinker-1.8.2 cachetools-5.5.0 gitdb-4.0.11 gitpython-3.1.43 narwhals-1.9.4 protobuf-5.28.2 pydeck-0.9.1 rich-13.9.2 smmap-5.0.1 streamlit-1.39.0 typing-extensions-4.12.2\n",
      "Note: you may need to restart the kernel to use updated packages.\n"
     ]
    }
   ],
   "source": [
    "pip install streamlit"
   ]
  },
  {
   "cell_type": "code",
   "execution_count": 47,
   "metadata": {
    "id": "-nahFFeCRRf2"
   },
   "outputs": [],
   "source": [
    "import streamlit as st\n",
    "import pandas as pd\n",
    "import numpy as np\n",
    "from sklearn.linear_model import LogisticRegression"
   ]
  },
  {
   "cell_type": "markdown",
   "metadata": {
    "id": "Y76ihN99SEYS"
   },
   "source": [
    "Loading the pre-trained model (replace with the actual path or model object)"
   ]
  },
  {
   "cell_type": "code",
   "execution_count": 48,
   "metadata": {
    "colab": {
     "base_uri": "https://localhost:8080/",
     "height": 74
    },
    "id": "tNkis5J_Rl66",
    "outputId": "6ab8f1e6-9a4a-40ee-f436-c268d13f572e"
   },
   "outputs": [
    {
     "data": {
      "text/html": [
       "<style>#sk-container-id-2 {color: black;}#sk-container-id-2 pre{padding: 0;}#sk-container-id-2 div.sk-toggleable {background-color: white;}#sk-container-id-2 label.sk-toggleable__label {cursor: pointer;display: block;width: 100%;margin-bottom: 0;padding: 0.3em;box-sizing: border-box;text-align: center;}#sk-container-id-2 label.sk-toggleable__label-arrow:before {content: \"▸\";float: left;margin-right: 0.25em;color: #696969;}#sk-container-id-2 label.sk-toggleable__label-arrow:hover:before {color: black;}#sk-container-id-2 div.sk-estimator:hover label.sk-toggleable__label-arrow:before {color: black;}#sk-container-id-2 div.sk-toggleable__content {max-height: 0;max-width: 0;overflow: hidden;text-align: left;background-color: #f0f8ff;}#sk-container-id-2 div.sk-toggleable__content pre {margin: 0.2em;color: black;border-radius: 0.25em;background-color: #f0f8ff;}#sk-container-id-2 input.sk-toggleable__control:checked~div.sk-toggleable__content {max-height: 200px;max-width: 100%;overflow: auto;}#sk-container-id-2 input.sk-toggleable__control:checked~label.sk-toggleable__label-arrow:before {content: \"▾\";}#sk-container-id-2 div.sk-estimator input.sk-toggleable__control:checked~label.sk-toggleable__label {background-color: #d4ebff;}#sk-container-id-2 div.sk-label input.sk-toggleable__control:checked~label.sk-toggleable__label {background-color: #d4ebff;}#sk-container-id-2 input.sk-hidden--visually {border: 0;clip: rect(1px 1px 1px 1px);clip: rect(1px, 1px, 1px, 1px);height: 1px;margin: -1px;overflow: hidden;padding: 0;position: absolute;width: 1px;}#sk-container-id-2 div.sk-estimator {font-family: monospace;background-color: #f0f8ff;border: 1px dotted black;border-radius: 0.25em;box-sizing: border-box;margin-bottom: 0.5em;}#sk-container-id-2 div.sk-estimator:hover {background-color: #d4ebff;}#sk-container-id-2 div.sk-parallel-item::after {content: \"\";width: 100%;border-bottom: 1px solid gray;flex-grow: 1;}#sk-container-id-2 div.sk-label:hover label.sk-toggleable__label {background-color: #d4ebff;}#sk-container-id-2 div.sk-serial::before {content: \"\";position: absolute;border-left: 1px solid gray;box-sizing: border-box;top: 0;bottom: 0;left: 50%;z-index: 0;}#sk-container-id-2 div.sk-serial {display: flex;flex-direction: column;align-items: center;background-color: white;padding-right: 0.2em;padding-left: 0.2em;position: relative;}#sk-container-id-2 div.sk-item {position: relative;z-index: 1;}#sk-container-id-2 div.sk-parallel {display: flex;align-items: stretch;justify-content: center;background-color: white;position: relative;}#sk-container-id-2 div.sk-item::before, #sk-container-id-2 div.sk-parallel-item::before {content: \"\";position: absolute;border-left: 1px solid gray;box-sizing: border-box;top: 0;bottom: 0;left: 50%;z-index: -1;}#sk-container-id-2 div.sk-parallel-item {display: flex;flex-direction: column;z-index: 1;position: relative;background-color: white;}#sk-container-id-2 div.sk-parallel-item:first-child::after {align-self: flex-end;width: 50%;}#sk-container-id-2 div.sk-parallel-item:last-child::after {align-self: flex-start;width: 50%;}#sk-container-id-2 div.sk-parallel-item:only-child::after {width: 0;}#sk-container-id-2 div.sk-dashed-wrapped {border: 1px dashed gray;margin: 0 0.4em 0.5em 0.4em;box-sizing: border-box;padding-bottom: 0.4em;background-color: white;}#sk-container-id-2 div.sk-label label {font-family: monospace;font-weight: bold;display: inline-block;line-height: 1.2em;}#sk-container-id-2 div.sk-label-container {text-align: center;}#sk-container-id-2 div.sk-container {/* jupyter's `normalize.less` sets `[hidden] { display: none; }` but bootstrap.min.css set `[hidden] { display: none !important; }` so we also need the `!important` here to be able to override the default hidden behavior on the sphinx rendered scikit-learn.org. See: https://github.com/scikit-learn/scikit-learn/issues/21755 */display: inline-block !important;position: relative;}#sk-container-id-2 div.sk-text-repr-fallback {display: none;}</style><div id=\"sk-container-id-2\" class=\"sk-top-container\"><div class=\"sk-text-repr-fallback\"><pre>LogisticRegression(max_iter=200)</pre><b>In a Jupyter environment, please rerun this cell to show the HTML representation or trust the notebook. <br />On GitHub, the HTML representation is unable to render, please try loading this page with nbviewer.org.</b></div><div class=\"sk-container\" hidden><div class=\"sk-item\"><div class=\"sk-estimator sk-toggleable\"><input class=\"sk-toggleable__control sk-hidden--visually\" id=\"sk-estimator-id-2\" type=\"checkbox\" checked><label for=\"sk-estimator-id-2\" class=\"sk-toggleable__label sk-toggleable__label-arrow\">LogisticRegression</label><div class=\"sk-toggleable__content\"><pre>LogisticRegression(max_iter=200)</pre></div></div></div></div></div>"
      ],
      "text/plain": [
       "LogisticRegression(max_iter=200)"
      ]
     },
     "execution_count": 48,
     "metadata": {},
     "output_type": "execute_result"
    }
   ],
   "source": [
    "model = LogisticRegression(max_iter=200)\n",
    "model.fit(X_train, y_train)"
   ]
  },
  {
   "cell_type": "markdown",
   "metadata": {
    "id": "fSzV__YiSKF8"
   },
   "source": [
    "Streamlit app code"
   ]
  },
  {
   "cell_type": "code",
   "execution_count": 49,
   "metadata": {
    "colab": {
     "base_uri": "https://localhost:8080/"
    },
    "id": "FzEPG-KTSH6l",
    "outputId": "83f41bc6-1cbb-464c-93f2-0ad4c7bfc899"
   },
   "outputs": [
    {
     "name": "stderr",
     "output_type": "stream",
     "text": [
      "2024-10-20 15:54:42.239 WARNING streamlit.runtime.scriptrunner_utils.script_run_context: Thread 'MainThread': missing ScriptRunContext! This warning can be ignored when running in bare mode.\n",
      "2024-10-20 15:54:45.051 \n",
      "  \u001b[33m\u001b[1mWarning:\u001b[0m to view this Streamlit app on a browser, run it with the following\n",
      "  command:\n",
      "\n",
      "    streamlit run C:\\Users\\PAVAN\\anaconda3\\Lib\\site-packages\\ipykernel_launcher.py [ARGUMENTS]\n",
      "2024-10-20 15:54:45.052 Thread 'MainThread': missing ScriptRunContext! This warning can be ignored when running in bare mode.\n"
     ]
    },
    {
     "data": {
      "text/plain": [
       "DeltaGenerator()"
      ]
     },
     "execution_count": 49,
     "metadata": {},
     "output_type": "execute_result"
    }
   ],
   "source": [
    "import warnings\n",
    "warnings.filterwarnings('ignore')\n",
    "\n",
    "st.title('Titanic Survival Prediction')"
   ]
  },
  {
   "cell_type": "markdown",
   "metadata": {
    "id": "rKaGifjXSrvJ"
   },
   "source": [
    "Sidebar inputs"
   ]
  },
  {
   "cell_type": "code",
   "execution_count": 50,
   "metadata": {
    "colab": {
     "base_uri": "https://localhost:8080/"
    },
    "id": "YZJMy0MNSMdo",
    "outputId": "d85dec90-b745-47ae-b38c-2834546bedc7"
   },
   "outputs": [
    {
     "name": "stderr",
     "output_type": "stream",
     "text": [
      "2024-10-20 15:54:45.074 Thread 'MainThread': missing ScriptRunContext! This warning can be ignored when running in bare mode.\n",
      "2024-10-20 15:54:45.078 Thread 'MainThread': missing ScriptRunContext! This warning can be ignored when running in bare mode.\n",
      "2024-10-20 15:54:45.084 Thread 'MainThread': missing ScriptRunContext! This warning can be ignored when running in bare mode.\n",
      "2024-10-20 15:54:45.088 Thread 'MainThread': missing ScriptRunContext! This warning can be ignored when running in bare mode.\n",
      "2024-10-20 15:54:45.090 Session state does not function when running a script without `streamlit run`\n",
      "2024-10-20 15:54:45.092 Thread 'MainThread': missing ScriptRunContext! This warning can be ignored when running in bare mode.\n",
      "2024-10-20 15:54:45.095 Thread 'MainThread': missing ScriptRunContext! This warning can be ignored when running in bare mode.\n",
      "2024-10-20 15:54:45.099 Thread 'MainThread': missing ScriptRunContext! This warning can be ignored when running in bare mode.\n",
      "2024-10-20 15:54:45.101 Thread 'MainThread': missing ScriptRunContext! This warning can be ignored when running in bare mode.\n",
      "2024-10-20 15:54:45.106 Thread 'MainThread': missing ScriptRunContext! This warning can be ignored when running in bare mode.\n",
      "2024-10-20 15:54:45.109 Thread 'MainThread': missing ScriptRunContext! This warning can be ignored when running in bare mode.\n",
      "2024-10-20 15:54:45.113 Thread 'MainThread': missing ScriptRunContext! This warning can be ignored when running in bare mode.\n",
      "2024-10-20 15:54:45.115 Thread 'MainThread': missing ScriptRunContext! This warning can be ignored when running in bare mode.\n",
      "2024-10-20 15:54:45.118 Thread 'MainThread': missing ScriptRunContext! This warning can be ignored when running in bare mode.\n",
      "2024-10-20 15:54:45.120 Thread 'MainThread': missing ScriptRunContext! This warning can be ignored when running in bare mode.\n",
      "2024-10-20 15:54:45.124 Thread 'MainThread': missing ScriptRunContext! This warning can be ignored when running in bare mode.\n",
      "2024-10-20 15:54:45.126 Thread 'MainThread': missing ScriptRunContext! This warning can be ignored when running in bare mode.\n",
      "2024-10-20 15:54:45.128 Thread 'MainThread': missing ScriptRunContext! This warning can be ignored when running in bare mode.\n",
      "2024-10-20 15:54:45.131 Thread 'MainThread': missing ScriptRunContext! This warning can be ignored when running in bare mode.\n",
      "2024-10-20 15:54:45.133 Thread 'MainThread': missing ScriptRunContext! This warning can be ignored when running in bare mode.\n",
      "2024-10-20 15:54:45.135 Thread 'MainThread': missing ScriptRunContext! This warning can be ignored when running in bare mode.\n",
      "2024-10-20 15:54:45.139 Thread 'MainThread': missing ScriptRunContext! This warning can be ignored when running in bare mode.\n",
      "2024-10-20 15:54:45.141 Thread 'MainThread': missing ScriptRunContext! This warning can be ignored when running in bare mode.\n",
      "2024-10-20 15:54:45.144 Thread 'MainThread': missing ScriptRunContext! This warning can be ignored when running in bare mode.\n",
      "2024-10-20 15:54:45.147 Thread 'MainThread': missing ScriptRunContext! This warning can be ignored when running in bare mode.\n",
      "2024-10-20 15:54:45.149 Thread 'MainThread': missing ScriptRunContext! This warning can be ignored when running in bare mode.\n",
      "2024-10-20 15:54:45.152 Thread 'MainThread': missing ScriptRunContext! This warning can be ignored when running in bare mode.\n",
      "2024-10-20 15:54:45.154 Thread 'MainThread': missing ScriptRunContext! This warning can be ignored when running in bare mode.\n",
      "2024-10-20 15:54:45.156 Thread 'MainThread': missing ScriptRunContext! This warning can be ignored when running in bare mode.\n",
      "2024-10-20 15:54:45.158 Thread 'MainThread': missing ScriptRunContext! This warning can be ignored when running in bare mode.\n",
      "2024-10-20 15:54:45.160 Thread 'MainThread': missing ScriptRunContext! This warning can be ignored when running in bare mode.\n",
      "2024-10-20 15:54:45.162 Thread 'MainThread': missing ScriptRunContext! This warning can be ignored when running in bare mode.\n",
      "2024-10-20 15:54:45.164 Thread 'MainThread': missing ScriptRunContext! This warning can be ignored when running in bare mode.\n",
      "2024-10-20 15:54:45.166 Thread 'MainThread': missing ScriptRunContext! This warning can be ignored when running in bare mode.\n",
      "2024-10-20 15:54:45.169 Thread 'MainThread': missing ScriptRunContext! This warning can be ignored when running in bare mode.\n",
      "2024-10-20 15:54:45.171 Thread 'MainThread': missing ScriptRunContext! This warning can be ignored when running in bare mode.\n",
      "2024-10-20 15:54:45.174 Thread 'MainThread': missing ScriptRunContext! This warning can be ignored when running in bare mode.\n",
      "2024-10-20 15:54:45.176 Thread 'MainThread': missing ScriptRunContext! This warning can be ignored when running in bare mode.\n",
      "2024-10-20 15:54:45.178 Thread 'MainThread': missing ScriptRunContext! This warning can be ignored when running in bare mode.\n",
      "2024-10-20 15:54:45.181 Thread 'MainThread': missing ScriptRunContext! This warning can be ignored when running in bare mode.\n"
     ]
    }
   ],
   "source": [
    "pclass = st.selectbox('Passenger Class (1 = 1st, 2 = 2nd, 3 = 3rd)', [1, 2, 3])\n",
    "sex = st.selectbox('Sex', ['male', 'female'])\n",
    "age = st.slider('Age', 0, 80, 29)\n",
    "sibsp = st.slider('Number of Siblings/Spouses Aboard', 0, 8, 0)\n",
    "parch = st.slider('Number of Parents/Children Aboard', 0, 6, 0)\n",
    "fare = st.number_input('Fare', min_value=0.0, max_value=500.0, value=32.0)\n",
    "embarked = st.selectbox('Port of Embarkation', ['C', 'Q', 'S'])"
   ]
  },
  {
   "cell_type": "markdown",
   "metadata": {
    "id": "hYWv7uu8Syaa"
   },
   "source": [
    "Preparing input data"
   ]
  },
  {
   "cell_type": "code",
   "execution_count": 51,
   "metadata": {
    "id": "bftaiDc2SudD"
   },
   "outputs": [],
   "source": [
    "input_data = pd.DataFrame({\n",
    "    'Pclass': [pclass],\n",
    "    'Age': [age],\n",
    "    'SibSp': [sibsp],\n",
    "    'Parch': [parch],\n",
    "    'Fare': [fare],\n",
    "    'Sex_male': [1 if sex == 'male' else 0],\n",
    "    'Embarked_Q': [1 if embarked == 'Q' else 0],\n",
    "    'Embarked_S': [1 if embarked == 'S' else 0]\n",
    "})"
   ]
  },
  {
   "cell_type": "markdown",
   "metadata": {
    "id": "6zaJWWliS4lz"
   },
   "source": [
    "Prediction"
   ]
  },
  {
   "cell_type": "code",
   "execution_count": 52,
   "metadata": {
    "colab": {
     "base_uri": "https://localhost:8080/"
    },
    "id": "-Ca7dad_S2YG",
    "outputId": "b5d754af-c8b4-491b-bfed-041a321ef751"
   },
   "outputs": [
    {
     "name": "stderr",
     "output_type": "stream",
     "text": [
      "2024-10-20 15:54:45.218 Thread 'MainThread': missing ScriptRunContext! This warning can be ignored when running in bare mode.\n",
      "2024-10-20 15:54:45.221 Thread 'MainThread': missing ScriptRunContext! This warning can be ignored when running in bare mode.\n",
      "2024-10-20 15:54:45.224 Thread 'MainThread': missing ScriptRunContext! This warning can be ignored when running in bare mode.\n",
      "2024-10-20 15:54:45.227 Thread 'MainThread': missing ScriptRunContext! This warning can be ignored when running in bare mode.\n",
      "2024-10-20 15:54:45.230 Thread 'MainThread': missing ScriptRunContext! This warning can be ignored when running in bare mode.\n"
     ]
    }
   ],
   "source": [
    "if st.button('Predict'):\n",
    "    survival_probability = model.predict_proba(input_data)[0][1]\n",
    "    st.write(f'Predicted Survival Probability: {survival_probability:.2f}')"
   ]
  }
 ],
 "metadata": {
  "colab": {
   "provenance": []
  },
  "kernelspec": {
   "display_name": "Python 3 (ipykernel)",
   "language": "python",
   "name": "python3"
  },
  "language_info": {
   "codemirror_mode": {
    "name": "ipython",
    "version": 3
   },
   "file_extension": ".py",
   "mimetype": "text/x-python",
   "name": "python",
   "nbconvert_exporter": "python",
   "pygments_lexer": "ipython3",
   "version": "3.11.5"
  }
 },
 "nbformat": 4,
 "nbformat_minor": 4
}

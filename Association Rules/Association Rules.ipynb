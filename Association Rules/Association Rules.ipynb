{
 "cells": [
  {
   "cell_type": "markdown",
   "id": "0590ccd8",
   "metadata": {},
   "source": [
    "# Sai Pavan Kumar M\n",
    "# Data Science - Batch January 2024 (Hyderabad) - Assignment 10\n",
    "\n",
    "# Association Rules"
   ]
  },
  {
   "cell_type": "code",
   "execution_count": null,
   "id": "9313a2d4-cbe2-43ee-876d-123150e1dad2",
   "metadata": {},
   "outputs": [],
   "source": [
    "# Load necessary packages\n",
    "import pandas as pd\n",
    "from mlxtend.preprocessing import TransactionEncoder\n",
    "from mlxtend.frequent_patterns import apriori, association_rules"
   ]
  },
  {
   "cell_type": "code",
   "execution_count": null,
   "id": "9f4f85d9-8d9c-4661-b695-af969c0a60cf",
   "metadata": {},
   "outputs": [],
   "source": [
    "# Load the dataset without headers\n",
    "df = pd.read_excel('Online retail.xlsx', sheet_name='Sheet1', header=None)"
   ]
  },
  {
   "cell_type": "markdown",
   "id": "c0595660-e612-401a-b04e-1bf4ba53f262",
   "metadata": {},
   "source": [
    "## Data Preprocessing"
   ]
  },
  {
   "cell_type": "code",
   "execution_count": null,
   "id": "8c6fd906-c09b-4586-b933-b655b0e73d60",
   "metadata": {},
   "outputs": [],
   "source": [
    "# Display the first few rows to understand the structure\n",
    "print(df.head())\n",
    "print(df.shape)"
   ]
  },
  {
   "cell_type": "code",
   "execution_count": null,
   "id": "600d7d5e-d932-40c7-a17e-bf0a240e4fad",
   "metadata": {},
   "outputs": [],
   "source": [
    "# Convert the single column of comma-separated items into a list of transactions\n",
    "transactions = df[0].apply(lambda x: x.split(','))"
   ]
  },
  {
   "cell_type": "code",
   "execution_count": null,
   "id": "2f063117-4410-4e0c-8faa-a9f9f7d08bc2",
   "metadata": {},
   "outputs": [],
   "source": [
    "# Display the first few transactions to verify\n",
    "print(transactions.head())"
   ]
  },
  {
   "cell_type": "code",
   "execution_count": null,
   "id": "19834950-be1d-4bda-bd2b-7cd2e3bf968f",
   "metadata": {},
   "outputs": [],
   "source": [
    "print(transactions.shape)"
   ]
  },
  {
   "cell_type": "markdown",
   "id": "83339dce-8570-4256-b5fb-80b73ada476f",
   "metadata": {},
   "source": [
    "## Implementing the Apriori Algorithm"
   ]
  },
  {
   "cell_type": "code",
   "execution_count": null,
   "id": "f5fd8c44-3b5a-4516-9884-2e918cc2ea07",
   "metadata": {},
   "outputs": [],
   "source": [
    "# Convert the transactions list into a one-hot encoded DataFrame\n",
    "te = TransactionEncoder()\n",
    "te_ary = te.fit(transactions).transform(transactions)\n",
    "df_trans = pd.DataFrame(te_ary, columns=te.columns_)"
   ]
  },
  {
   "cell_type": "code",
   "execution_count": null,
   "id": "3935da9b-90f6-4429-adef-64170497c974",
   "metadata": {},
   "outputs": [],
   "source": [
    "# Apply the Apriori algorithm with a minimum support threshold\n",
    "frequent_itemsets = apriori(df_trans, min_support=0.005, use_colnames=True)"
   ]
  },
  {
   "cell_type": "code",
   "execution_count": null,
   "id": "a99feaa5-f0b1-4c58-95c0-102b281db02a",
   "metadata": {},
   "outputs": [],
   "source": [
    "# Check if we found any frequent itemsets\n",
    "print(frequent_itemsets.head())\n",
    "\n",
    "if frequent_itemsets.empty:\n",
    "    print(\"No frequent itemsets found. Try lowering the min_support value.\")\n",
    "else:\n",
    "    # Generate association rules with a minimum confidence threshold\n",
    "    rules = association_rules(frequent_itemsets, metric=\"confidence\", min_threshold=0.2)\n",
    "\n",
    "    # Display the resulting rules\n",
    "    print(rules.head())"
   ]
  },
  {
   "cell_type": "markdown",
   "id": "9b5b5dd7-b310-423b-aaa0-62bb78789248",
   "metadata": {},
   "source": [
    "## Analysis and Interpretation\n",
    "- Analyze the generated rules\n",
    "- Identify interesting patterns and relationships\n",
    "- Provide insights into customer purchasing behavior"
   ]
  },
  {
   "cell_type": "code",
   "execution_count": null,
   "id": "057c57f6-70bd-404a-ad37-021eed1a1280",
   "metadata": {},
   "outputs": [],
   "source": [
    "if not rules.empty:\n",
    "    # Sort the rules by lift in descending order\n",
    "    rules.sort_values('lift', ascending=False, inplace=True)\n",
    "\n",
    "    # Display the top 10 rules\n",
    "    print(rules.head(10))\n",
    "\n",
    "    # Analyze the rules\n",
    "    for _, rule in rules.head(10).iterrows():\n",
    "        antecedents = ', '.join(list(rule['antecedents']))\n",
    "        consequents = ', '.join(list(rule['consequents']))\n",
    "        print(f\"Rule: If a customer buys {antecedents}, they are likely to also buy {consequents}\")\n",
    "        print(f\" - Support: {rule['support']}\")\n",
    "        print(f\" - Confidence: {rule['confidence']}\")\n",
    "        print(f\" - Lift: {rule['lift']}\")\n",
    "        print()\n",
    "else:\n",
    "    print(\"No association rules found.\")"
   ]
  }
 ],
 "metadata": {
  "kernelspec": {
   "display_name": "Python 3 (ipykernel)",
   "language": "python",
   "name": "python3"
  },
  "language_info": {
   "codemirror_mode": {
    "name": "ipython",
    "version": 3
   },
   "file_extension": ".py",
   "mimetype": "text/x-python",
   "name": "python",
   "nbconvert_exporter": "python",
   "pygments_lexer": "ipython3",
   "version": "3.11.5"
  }
 },
 "nbformat": 4,
 "nbformat_minor": 5
}
